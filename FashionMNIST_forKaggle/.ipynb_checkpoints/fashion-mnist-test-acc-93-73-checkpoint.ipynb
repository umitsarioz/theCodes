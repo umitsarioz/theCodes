{
 "cells": [
  {
   "cell_type": "markdown",
   "metadata": {
    "papermill": {
     "duration": 0.04114,
     "end_time": "2020-11-15T11:57:48.752358",
     "exception": false,
     "start_time": "2020-11-15T11:57:48.711218",
     "status": "completed"
    },
    "tags": []
   },
   "source": [
    "Hello everyone! It's my first notebook. I didnt want to add a info part because it's not so big notebook. I had %93.73 accuracy on Test set. I hope it's clear to understand. "
   ]
  },
  {
   "cell_type": "markdown",
   "metadata": {
    "papermill": {
     "duration": 0.037826,
     "end_time": "2020-11-15T11:57:48.829944",
     "exception": false,
     "start_time": "2020-11-15T11:57:48.792118",
     "status": "completed"
    },
    "tags": []
   },
   "source": [
    "# 1. Imports"
   ]
  },
  {
   "cell_type": "markdown",
   "metadata": {
    "papermill": {
     "duration": 0.039641,
     "end_time": "2020-11-15T11:57:48.908769",
     "exception": false,
     "start_time": "2020-11-15T11:57:48.869128",
     "status": "completed"
    },
    "tags": []
   },
   "source": [
    "### 1.1. Import Necessary Libraries"
   ]
  },
  {
   "cell_type": "code",
   "execution_count": 1,
   "metadata": {
    "_cell_guid": "79c7e3d0-c299-4dcb-8224-4455121ee9b0",
    "_uuid": "d629ff2d2480ee46fbb7e2d37f6b5fab8052498a",
    "execution": {
     "iopub.execute_input": "2020-11-15T11:57:48.996093Z",
     "iopub.status.busy": "2020-11-15T11:57:48.995180Z",
     "iopub.status.idle": "2020-11-15T11:57:55.391907Z",
     "shell.execute_reply": "2020-11-15T11:57:55.391035Z"
    },
    "papermill": {
     "duration": 6.445284,
     "end_time": "2020-11-15T11:57:55.392071",
     "exception": false,
     "start_time": "2020-11-15T11:57:48.946787",
     "status": "completed"
    },
    "tags": []
   },
   "outputs": [],
   "source": [
    "# handle tabular data and matrices \n",
    "import numpy as np\n",
    "import pandas as pd\n",
    "#for visualization\n",
    "import matplotlib.pyplot as plt\n",
    "import seaborn as sns\n",
    "#tensorflow for download dataset and some tensor operations\n",
    "import tensorflow as tf\n",
    "from tensorflow import keras\n",
    "from tensorflow.keras.utils import to_categorical # convert oh-enc\n",
    "#model\n",
    "from keras.models import Sequential, Model\n",
    "from keras.layers import Dense,Dropout,Flatten,Conv2D,MaxPool2D,BatchNormalization,AvgPool2D\n",
    "\n",
    "#Regularization\n",
    "#data augmentation\n",
    "from keras.preprocessing.image import ImageDataGenerator\n",
    "#earlystopping,Learning Rate decay\n",
    "from keras.callbacks import ModelCheckpoint,EarlyStopping,LearningRateScheduler\n"
   ]
  },
  {
   "cell_type": "markdown",
   "metadata": {
    "papermill": {
     "duration": 0.039781,
     "end_time": "2020-11-15T11:57:55.475055",
     "exception": false,
     "start_time": "2020-11-15T11:57:55.435274",
     "status": "completed"
    },
    "tags": []
   },
   "source": [
    "### 1.2. Load Dataset"
   ]
  },
  {
   "cell_type": "code",
   "execution_count": 2,
   "metadata": {
    "execution": {
     "iopub.execute_input": "2020-11-15T11:57:55.563199Z",
     "iopub.status.busy": "2020-11-15T11:57:55.562225Z",
     "iopub.status.idle": "2020-11-15T11:57:56.777926Z",
     "shell.execute_reply": "2020-11-15T11:57:56.776795Z"
    },
    "papermill": {
     "duration": 1.262625,
     "end_time": "2020-11-15T11:57:56.778106",
     "exception": false,
     "start_time": "2020-11-15T11:57:55.515481",
     "status": "completed"
    },
    "tags": []
   },
   "outputs": [
    {
     "name": "stdout",
     "output_type": "stream",
     "text": [
      "Downloading data from https://storage.googleapis.com/tensorflow/tf-keras-datasets/train-labels-idx1-ubyte.gz\n",
      "32768/29515 [=================================] - 0s 0us/step\n",
      "Downloading data from https://storage.googleapis.com/tensorflow/tf-keras-datasets/train-images-idx3-ubyte.gz\n",
      "26427392/26421880 [==============================] - 0s 0us/step\n",
      "Downloading data from https://storage.googleapis.com/tensorflow/tf-keras-datasets/t10k-labels-idx1-ubyte.gz\n",
      "8192/5148 [===============================================] - 0s 0us/step\n",
      "Downloading data from https://storage.googleapis.com/tensorflow/tf-keras-datasets/t10k-images-idx3-ubyte.gz\n",
      "4423680/4422102 [==============================] - 0s 0us/step\n"
     ]
    }
   ],
   "source": [
    "mnist = tf.keras.datasets.fashion_mnist \n",
    "\n",
    "(all_train_images, all_train_labels), (test_images, test_labels) = mnist.load_data()\n",
    "\n",
    "#divide train dataset as train/dev for training\n",
    "train_images,train_labels = all_train_images[:50000], all_train_labels[:50000]\n",
    "dev_images, dev_labels = all_train_images[50000:-1],all_train_labels[50000:-1]"
   ]
  },
  {
   "cell_type": "markdown",
   "metadata": {
    "papermill": {
     "duration": 0.045044,
     "end_time": "2020-11-15T11:57:56.869893",
     "exception": false,
     "start_time": "2020-11-15T11:57:56.824849",
     "status": "completed"
    },
    "tags": []
   },
   "source": [
    "# 2. Data Analysis & EDA"
   ]
  },
  {
   "cell_type": "markdown",
   "metadata": {
    "papermill": {
     "duration": 0.045566,
     "end_time": "2020-11-15T11:57:56.960532",
     "exception": false,
     "start_time": "2020-11-15T11:57:56.914966",
     "status": "completed"
    },
    "tags": []
   },
   "source": [
    "### 2.1. Shape"
   ]
  },
  {
   "cell_type": "code",
   "execution_count": 3,
   "metadata": {
    "execution": {
     "iopub.execute_input": "2020-11-15T11:57:57.058182Z",
     "iopub.status.busy": "2020-11-15T11:57:57.057288Z",
     "iopub.status.idle": "2020-11-15T11:57:57.063951Z",
     "shell.execute_reply": "2020-11-15T11:57:57.063384Z"
    },
    "papermill": {
     "duration": 0.058094,
     "end_time": "2020-11-15T11:57:57.064064",
     "exception": false,
     "start_time": "2020-11-15T11:57:57.005970",
     "status": "completed"
    },
    "tags": []
   },
   "outputs": [
    {
     "name": "stdout",
     "output_type": "stream",
     "text": [
      "Shape of train_images:  (50000, 28, 28)\n",
      "Shape of train_labels:  (50000,)\n"
     ]
    }
   ],
   "source": [
    "print(\"Shape of train_images: \",train_images.shape)\n",
    "print(\"Shape of train_labels: \",train_labels.shape)"
   ]
  },
  {
   "cell_type": "markdown",
   "metadata": {
    "papermill": {
     "duration": 0.04709,
     "end_time": "2020-11-15T11:57:57.157589",
     "exception": false,
     "start_time": "2020-11-15T11:57:57.110499",
     "status": "completed"
    },
    "tags": []
   },
   "source": [
    "Results show that images has 28x28 piksel and counts are 50k. Labels' count is 50k,too."
   ]
  },
  {
   "cell_type": "markdown",
   "metadata": {
    "papermill": {
     "duration": 0.049454,
     "end_time": "2020-11-15T11:57:57.254339",
     "exception": false,
     "start_time": "2020-11-15T11:57:57.204885",
     "status": "completed"
    },
    "tags": []
   },
   "source": [
    "Firstly, i want to examine my datas in frame.So using pandas,i'll convert my data to DataFrame. Our data's shape is 3D,but DataFrame must be 2D-input. So we should reshape our datasets in images."
   ]
  },
  {
   "cell_type": "code",
   "execution_count": 4,
   "metadata": {
    "execution": {
     "iopub.execute_input": "2020-11-15T11:57:57.356485Z",
     "iopub.status.busy": "2020-11-15T11:57:57.355599Z",
     "iopub.status.idle": "2020-11-15T11:57:57.358209Z",
     "shell.execute_reply": "2020-11-15T11:57:57.358984Z"
    },
    "papermill": {
     "duration": 0.058066,
     "end_time": "2020-11-15T11:57:57.359123",
     "exception": false,
     "start_time": "2020-11-15T11:57:57.301057",
     "status": "completed"
    },
    "tags": []
   },
   "outputs": [],
   "source": [
    "img_w = train_images.shape[1] #cols\n",
    "img_h = train_images.shape[2] #rows\n",
    "ch = 1 #channels\n",
    "img_shape = (img_w,img_h,ch)"
   ]
  },
  {
   "cell_type": "markdown",
   "metadata": {
    "papermill": {
     "duration": 0.044047,
     "end_time": "2020-11-15T11:57:57.450090",
     "exception": false,
     "start_time": "2020-11-15T11:57:57.406043",
     "status": "completed"
    },
    "tags": []
   },
   "source": [
    "### 2.2. General Info about Data"
   ]
  },
  {
   "cell_type": "code",
   "execution_count": 5,
   "metadata": {
    "execution": {
     "iopub.execute_input": "2020-11-15T11:57:57.545134Z",
     "iopub.status.busy": "2020-11-15T11:57:57.544352Z",
     "iopub.status.idle": "2020-11-15T11:57:57.600175Z",
     "shell.execute_reply": "2020-11-15T11:57:57.599481Z"
    },
    "papermill": {
     "duration": 0.10628,
     "end_time": "2020-11-15T11:57:57.600306",
     "exception": false,
     "start_time": "2020-11-15T11:57:57.494026",
     "status": "completed"
    },
    "tags": []
   },
   "outputs": [
    {
     "name": "stdout",
     "output_type": "stream",
     "text": [
      "<class 'pandas.core.frame.DataFrame'>\n",
      "RangeIndex: 50000 entries, 0 to 49999\n",
      "Columns: 784 entries, 0 to 783\n",
      "dtypes: uint8(784)\n",
      "memory usage: 37.4 MB\n",
      "\n",
      "-----\n",
      "\n",
      "<class 'pandas.core.frame.DataFrame'>\n",
      "RangeIndex: 50000 entries, 0 to 49999\n",
      "Data columns (total 1 columns):\n",
      " #   Column  Non-Null Count  Dtype\n",
      "---  ------  --------------  -----\n",
      " 0   0       50000 non-null  uint8\n",
      "dtypes: uint8(1)\n",
      "memory usage: 49.0 KB\n"
     ]
    }
   ],
   "source": [
    "#Reshape images for converting dataframe\n",
    "\n",
    "df_train_images = pd.DataFrame(train_images.reshape(-1,img_w*img_h*ch))\n",
    "df_train_labels = pd.DataFrame(train_labels)\n",
    "\n",
    "#Let's look our datasets\n",
    "\n",
    "df_train_images.info()\n",
    "print(\"\\n-----\\n\")\n",
    "df_train_labels.info()"
   ]
  },
  {
   "cell_type": "markdown",
   "metadata": {
    "papermill": {
     "duration": 0.045862,
     "end_time": "2020-11-15T11:57:57.692012",
     "exception": false,
     "start_time": "2020-11-15T11:57:57.646150",
     "status": "completed"
    },
    "tags": []
   },
   "source": [
    "Let's look the results. **Train images** has 50,000 rows and 784 columns. All datas' type are uint8.And **Train labels** has 50,000 rows and 1 column. And all datas' type are uint8,too."
   ]
  },
  {
   "cell_type": "markdown",
   "metadata": {
    "papermill": {
     "duration": 0.045652,
     "end_time": "2020-11-15T11:57:57.783512",
     "exception": false,
     "start_time": "2020-11-15T11:57:57.737860",
     "status": "completed"
    },
    "tags": []
   },
   "source": [
    "### 2.3. Statistical Info"
   ]
  },
  {
   "cell_type": "code",
   "execution_count": 6,
   "metadata": {
    "execution": {
     "iopub.execute_input": "2020-11-15T11:57:57.882564Z",
     "iopub.status.busy": "2020-11-15T11:57:57.881438Z",
     "iopub.status.idle": "2020-11-15T11:58:01.415608Z",
     "shell.execute_reply": "2020-11-15T11:58:01.416253Z"
    },
    "papermill": {
     "duration": 3.587358,
     "end_time": "2020-11-15T11:58:01.416426",
     "exception": false,
     "start_time": "2020-11-15T11:57:57.829068",
     "status": "completed"
    },
    "tags": []
   },
   "outputs": [
    {
     "data": {
      "text/html": [
       "<div>\n",
       "<style scoped>\n",
       "    .dataframe tbody tr th:only-of-type {\n",
       "        vertical-align: middle;\n",
       "    }\n",
       "\n",
       "    .dataframe tbody tr th {\n",
       "        vertical-align: top;\n",
       "    }\n",
       "\n",
       "    .dataframe thead th {\n",
       "        text-align: right;\n",
       "    }\n",
       "</style>\n",
       "<table border=\"1\" class=\"dataframe\">\n",
       "  <thead>\n",
       "    <tr style=\"text-align: right;\">\n",
       "      <th></th>\n",
       "      <th>0</th>\n",
       "      <th>1</th>\n",
       "      <th>2</th>\n",
       "      <th>3</th>\n",
       "      <th>4</th>\n",
       "      <th>5</th>\n",
       "      <th>6</th>\n",
       "      <th>7</th>\n",
       "      <th>8</th>\n",
       "      <th>9</th>\n",
       "      <th>...</th>\n",
       "      <th>774</th>\n",
       "      <th>775</th>\n",
       "      <th>776</th>\n",
       "      <th>777</th>\n",
       "      <th>778</th>\n",
       "      <th>779</th>\n",
       "      <th>780</th>\n",
       "      <th>781</th>\n",
       "      <th>782</th>\n",
       "      <th>783</th>\n",
       "    </tr>\n",
       "  </thead>\n",
       "  <tbody>\n",
       "    <tr>\n",
       "      <th>count</th>\n",
       "      <td>50000.000000</td>\n",
       "      <td>50000.000000</td>\n",
       "      <td>50000.000000</td>\n",
       "      <td>50000.000000</td>\n",
       "      <td>50000.000000</td>\n",
       "      <td>50000.000000</td>\n",
       "      <td>50000.000000</td>\n",
       "      <td>50000.000000</td>\n",
       "      <td>50000.000000</td>\n",
       "      <td>50000.000000</td>\n",
       "      <td>...</td>\n",
       "      <td>50000.000000</td>\n",
       "      <td>50000.000000</td>\n",
       "      <td>50000.000000</td>\n",
       "      <td>50000.000000</td>\n",
       "      <td>50000.000000</td>\n",
       "      <td>50000.000000</td>\n",
       "      <td>50000.000000</td>\n",
       "      <td>50000.000000</td>\n",
       "      <td>50000.000000</td>\n",
       "      <td>50000.00000</td>\n",
       "    </tr>\n",
       "    <tr>\n",
       "      <th>mean</th>\n",
       "      <td>0.000900</td>\n",
       "      <td>0.006160</td>\n",
       "      <td>0.030940</td>\n",
       "      <td>0.107540</td>\n",
       "      <td>0.253580</td>\n",
       "      <td>0.410060</td>\n",
       "      <td>0.809520</td>\n",
       "      <td>2.248940</td>\n",
       "      <td>5.720840</td>\n",
       "      <td>14.450000</td>\n",
       "      <td>...</td>\n",
       "      <td>34.482800</td>\n",
       "      <td>23.160800</td>\n",
       "      <td>16.517680</td>\n",
       "      <td>17.712160</td>\n",
       "      <td>22.886520</td>\n",
       "      <td>17.888300</td>\n",
       "      <td>8.457380</td>\n",
       "      <td>2.675780</td>\n",
       "      <td>0.804120</td>\n",
       "      <td>0.07320</td>\n",
       "    </tr>\n",
       "    <tr>\n",
       "      <th>std</th>\n",
       "      <td>0.100893</td>\n",
       "      <td>0.269673</td>\n",
       "      <td>0.800147</td>\n",
       "      <td>2.558106</td>\n",
       "      <td>4.300201</td>\n",
       "      <td>5.765828</td>\n",
       "      <td>8.236479</td>\n",
       "      <td>14.342265</td>\n",
       "      <td>23.923902</td>\n",
       "      <td>38.234768</td>\n",
       "      <td>...</td>\n",
       "      <td>57.428282</td>\n",
       "      <td>48.814994</td>\n",
       "      <td>41.924385</td>\n",
       "      <td>43.740321</td>\n",
       "      <td>51.888154</td>\n",
       "      <td>45.118352</td>\n",
       "      <td>29.384753</td>\n",
       "      <td>17.143893</td>\n",
       "      <td>8.973965</td>\n",
       "      <td>2.16594</td>\n",
       "    </tr>\n",
       "    <tr>\n",
       "      <th>min</th>\n",
       "      <td>0.000000</td>\n",
       "      <td>0.000000</td>\n",
       "      <td>0.000000</td>\n",
       "      <td>0.000000</td>\n",
       "      <td>0.000000</td>\n",
       "      <td>0.000000</td>\n",
       "      <td>0.000000</td>\n",
       "      <td>0.000000</td>\n",
       "      <td>0.000000</td>\n",
       "      <td>0.000000</td>\n",
       "      <td>...</td>\n",
       "      <td>0.000000</td>\n",
       "      <td>0.000000</td>\n",
       "      <td>0.000000</td>\n",
       "      <td>0.000000</td>\n",
       "      <td>0.000000</td>\n",
       "      <td>0.000000</td>\n",
       "      <td>0.000000</td>\n",
       "      <td>0.000000</td>\n",
       "      <td>0.000000</td>\n",
       "      <td>0.00000</td>\n",
       "    </tr>\n",
       "    <tr>\n",
       "      <th>25%</th>\n",
       "      <td>0.000000</td>\n",
       "      <td>0.000000</td>\n",
       "      <td>0.000000</td>\n",
       "      <td>0.000000</td>\n",
       "      <td>0.000000</td>\n",
       "      <td>0.000000</td>\n",
       "      <td>0.000000</td>\n",
       "      <td>0.000000</td>\n",
       "      <td>0.000000</td>\n",
       "      <td>0.000000</td>\n",
       "      <td>...</td>\n",
       "      <td>0.000000</td>\n",
       "      <td>0.000000</td>\n",
       "      <td>0.000000</td>\n",
       "      <td>0.000000</td>\n",
       "      <td>0.000000</td>\n",
       "      <td>0.000000</td>\n",
       "      <td>0.000000</td>\n",
       "      <td>0.000000</td>\n",
       "      <td>0.000000</td>\n",
       "      <td>0.00000</td>\n",
       "    </tr>\n",
       "    <tr>\n",
       "      <th>50%</th>\n",
       "      <td>0.000000</td>\n",
       "      <td>0.000000</td>\n",
       "      <td>0.000000</td>\n",
       "      <td>0.000000</td>\n",
       "      <td>0.000000</td>\n",
       "      <td>0.000000</td>\n",
       "      <td>0.000000</td>\n",
       "      <td>0.000000</td>\n",
       "      <td>0.000000</td>\n",
       "      <td>0.000000</td>\n",
       "      <td>...</td>\n",
       "      <td>0.000000</td>\n",
       "      <td>0.000000</td>\n",
       "      <td>0.000000</td>\n",
       "      <td>0.000000</td>\n",
       "      <td>0.000000</td>\n",
       "      <td>0.000000</td>\n",
       "      <td>0.000000</td>\n",
       "      <td>0.000000</td>\n",
       "      <td>0.000000</td>\n",
       "      <td>0.00000</td>\n",
       "    </tr>\n",
       "    <tr>\n",
       "      <th>75%</th>\n",
       "      <td>0.000000</td>\n",
       "      <td>0.000000</td>\n",
       "      <td>0.000000</td>\n",
       "      <td>0.000000</td>\n",
       "      <td>0.000000</td>\n",
       "      <td>0.000000</td>\n",
       "      <td>0.000000</td>\n",
       "      <td>0.000000</td>\n",
       "      <td>0.000000</td>\n",
       "      <td>0.000000</td>\n",
       "      <td>...</td>\n",
       "      <td>57.000000</td>\n",
       "      <td>8.000000</td>\n",
       "      <td>0.000000</td>\n",
       "      <td>0.000000</td>\n",
       "      <td>0.000000</td>\n",
       "      <td>0.000000</td>\n",
       "      <td>0.000000</td>\n",
       "      <td>0.000000</td>\n",
       "      <td>0.000000</td>\n",
       "      <td>0.00000</td>\n",
       "    </tr>\n",
       "    <tr>\n",
       "      <th>max</th>\n",
       "      <td>16.000000</td>\n",
       "      <td>36.000000</td>\n",
       "      <td>119.000000</td>\n",
       "      <td>164.000000</td>\n",
       "      <td>224.000000</td>\n",
       "      <td>230.000000</td>\n",
       "      <td>221.000000</td>\n",
       "      <td>221.000000</td>\n",
       "      <td>254.000000</td>\n",
       "      <td>255.000000</td>\n",
       "      <td>...</td>\n",
       "      <td>255.000000</td>\n",
       "      <td>255.000000</td>\n",
       "      <td>255.000000</td>\n",
       "      <td>255.000000</td>\n",
       "      <td>255.000000</td>\n",
       "      <td>255.000000</td>\n",
       "      <td>255.000000</td>\n",
       "      <td>255.000000</td>\n",
       "      <td>233.000000</td>\n",
       "      <td>170.00000</td>\n",
       "    </tr>\n",
       "  </tbody>\n",
       "</table>\n",
       "<p>8 rows × 784 columns</p>\n",
       "</div>"
      ],
      "text/plain": [
       "                0             1             2             3             4    \\\n",
       "count  50000.000000  50000.000000  50000.000000  50000.000000  50000.000000   \n",
       "mean       0.000900      0.006160      0.030940      0.107540      0.253580   \n",
       "std        0.100893      0.269673      0.800147      2.558106      4.300201   \n",
       "min        0.000000      0.000000      0.000000      0.000000      0.000000   \n",
       "25%        0.000000      0.000000      0.000000      0.000000      0.000000   \n",
       "50%        0.000000      0.000000      0.000000      0.000000      0.000000   \n",
       "75%        0.000000      0.000000      0.000000      0.000000      0.000000   \n",
       "max       16.000000     36.000000    119.000000    164.000000    224.000000   \n",
       "\n",
       "                5             6             7             8             9    \\\n",
       "count  50000.000000  50000.000000  50000.000000  50000.000000  50000.000000   \n",
       "mean       0.410060      0.809520      2.248940      5.720840     14.450000   \n",
       "std        5.765828      8.236479     14.342265     23.923902     38.234768   \n",
       "min        0.000000      0.000000      0.000000      0.000000      0.000000   \n",
       "25%        0.000000      0.000000      0.000000      0.000000      0.000000   \n",
       "50%        0.000000      0.000000      0.000000      0.000000      0.000000   \n",
       "75%        0.000000      0.000000      0.000000      0.000000      0.000000   \n",
       "max      230.000000    221.000000    221.000000    254.000000    255.000000   \n",
       "\n",
       "       ...           774           775           776           777  \\\n",
       "count  ...  50000.000000  50000.000000  50000.000000  50000.000000   \n",
       "mean   ...     34.482800     23.160800     16.517680     17.712160   \n",
       "std    ...     57.428282     48.814994     41.924385     43.740321   \n",
       "min    ...      0.000000      0.000000      0.000000      0.000000   \n",
       "25%    ...      0.000000      0.000000      0.000000      0.000000   \n",
       "50%    ...      0.000000      0.000000      0.000000      0.000000   \n",
       "75%    ...     57.000000      8.000000      0.000000      0.000000   \n",
       "max    ...    255.000000    255.000000    255.000000    255.000000   \n",
       "\n",
       "                778           779           780           781           782  \\\n",
       "count  50000.000000  50000.000000  50000.000000  50000.000000  50000.000000   \n",
       "mean      22.886520     17.888300      8.457380      2.675780      0.804120   \n",
       "std       51.888154     45.118352     29.384753     17.143893      8.973965   \n",
       "min        0.000000      0.000000      0.000000      0.000000      0.000000   \n",
       "25%        0.000000      0.000000      0.000000      0.000000      0.000000   \n",
       "50%        0.000000      0.000000      0.000000      0.000000      0.000000   \n",
       "75%        0.000000      0.000000      0.000000      0.000000      0.000000   \n",
       "max      255.000000    255.000000    255.000000    255.000000    233.000000   \n",
       "\n",
       "               783  \n",
       "count  50000.00000  \n",
       "mean       0.07320  \n",
       "std        2.16594  \n",
       "min        0.00000  \n",
       "25%        0.00000  \n",
       "50%        0.00000  \n",
       "75%        0.00000  \n",
       "max      170.00000  \n",
       "\n",
       "[8 rows x 784 columns]"
      ]
     },
     "execution_count": 6,
     "metadata": {},
     "output_type": "execute_result"
    }
   ],
   "source": [
    "df_train_images.describe()"
   ]
  },
  {
   "cell_type": "markdown",
   "metadata": {
    "papermill": {
     "duration": 0.052633,
     "end_time": "2020-11-15T11:58:01.524416",
     "exception": false,
     "start_time": "2020-11-15T11:58:01.471783",
     "status": "completed"
    },
    "tags": []
   },
   "source": [
    "We can examine the results more but for now , just dont forget the min and max value. Because we will use the values for Normalization."
   ]
  },
  {
   "cell_type": "code",
   "execution_count": 7,
   "metadata": {
    "execution": {
     "iopub.execute_input": "2020-11-15T11:58:01.649072Z",
     "iopub.status.busy": "2020-11-15T11:58:01.647932Z",
     "iopub.status.idle": "2020-11-15T11:58:01.653062Z",
     "shell.execute_reply": "2020-11-15T11:58:01.652438Z"
    },
    "papermill": {
     "duration": 0.075624,
     "end_time": "2020-11-15T11:58:01.653172",
     "exception": false,
     "start_time": "2020-11-15T11:58:01.577548",
     "status": "completed"
    },
    "tags": []
   },
   "outputs": [
    {
     "data": {
      "text/html": [
       "<div>\n",
       "<style scoped>\n",
       "    .dataframe tbody tr th:only-of-type {\n",
       "        vertical-align: middle;\n",
       "    }\n",
       "\n",
       "    .dataframe tbody tr th {\n",
       "        vertical-align: top;\n",
       "    }\n",
       "\n",
       "    .dataframe thead th {\n",
       "        text-align: right;\n",
       "    }\n",
       "</style>\n",
       "<table border=\"1\" class=\"dataframe\">\n",
       "  <thead>\n",
       "    <tr style=\"text-align: right;\">\n",
       "      <th></th>\n",
       "      <th>0</th>\n",
       "      <th>1</th>\n",
       "      <th>2</th>\n",
       "      <th>3</th>\n",
       "      <th>4</th>\n",
       "      <th>5</th>\n",
       "      <th>6</th>\n",
       "      <th>7</th>\n",
       "      <th>8</th>\n",
       "      <th>9</th>\n",
       "      <th>...</th>\n",
       "      <th>774</th>\n",
       "      <th>775</th>\n",
       "      <th>776</th>\n",
       "      <th>777</th>\n",
       "      <th>778</th>\n",
       "      <th>779</th>\n",
       "      <th>780</th>\n",
       "      <th>781</th>\n",
       "      <th>782</th>\n",
       "      <th>783</th>\n",
       "    </tr>\n",
       "  </thead>\n",
       "  <tbody>\n",
       "    <tr>\n",
       "      <th>0</th>\n",
       "      <td>0</td>\n",
       "      <td>0</td>\n",
       "      <td>0</td>\n",
       "      <td>0</td>\n",
       "      <td>0</td>\n",
       "      <td>0</td>\n",
       "      <td>0</td>\n",
       "      <td>0</td>\n",
       "      <td>0</td>\n",
       "      <td>0</td>\n",
       "      <td>...</td>\n",
       "      <td>0</td>\n",
       "      <td>0</td>\n",
       "      <td>0</td>\n",
       "      <td>0</td>\n",
       "      <td>0</td>\n",
       "      <td>0</td>\n",
       "      <td>0</td>\n",
       "      <td>0</td>\n",
       "      <td>0</td>\n",
       "      <td>0</td>\n",
       "    </tr>\n",
       "    <tr>\n",
       "      <th>1</th>\n",
       "      <td>0</td>\n",
       "      <td>0</td>\n",
       "      <td>0</td>\n",
       "      <td>0</td>\n",
       "      <td>0</td>\n",
       "      <td>1</td>\n",
       "      <td>0</td>\n",
       "      <td>0</td>\n",
       "      <td>0</td>\n",
       "      <td>0</td>\n",
       "      <td>...</td>\n",
       "      <td>119</td>\n",
       "      <td>114</td>\n",
       "      <td>130</td>\n",
       "      <td>76</td>\n",
       "      <td>0</td>\n",
       "      <td>0</td>\n",
       "      <td>0</td>\n",
       "      <td>0</td>\n",
       "      <td>0</td>\n",
       "      <td>0</td>\n",
       "    </tr>\n",
       "    <tr>\n",
       "      <th>2</th>\n",
       "      <td>0</td>\n",
       "      <td>0</td>\n",
       "      <td>0</td>\n",
       "      <td>0</td>\n",
       "      <td>0</td>\n",
       "      <td>0</td>\n",
       "      <td>0</td>\n",
       "      <td>0</td>\n",
       "      <td>0</td>\n",
       "      <td>22</td>\n",
       "      <td>...</td>\n",
       "      <td>0</td>\n",
       "      <td>0</td>\n",
       "      <td>1</td>\n",
       "      <td>0</td>\n",
       "      <td>0</td>\n",
       "      <td>0</td>\n",
       "      <td>0</td>\n",
       "      <td>0</td>\n",
       "      <td>0</td>\n",
       "      <td>0</td>\n",
       "    </tr>\n",
       "    <tr>\n",
       "      <th>3</th>\n",
       "      <td>0</td>\n",
       "      <td>0</td>\n",
       "      <td>0</td>\n",
       "      <td>0</td>\n",
       "      <td>0</td>\n",
       "      <td>0</td>\n",
       "      <td>0</td>\n",
       "      <td>0</td>\n",
       "      <td>33</td>\n",
       "      <td>96</td>\n",
       "      <td>...</td>\n",
       "      <td>0</td>\n",
       "      <td>0</td>\n",
       "      <td>0</td>\n",
       "      <td>0</td>\n",
       "      <td>0</td>\n",
       "      <td>0</td>\n",
       "      <td>0</td>\n",
       "      <td>0</td>\n",
       "      <td>0</td>\n",
       "      <td>0</td>\n",
       "    </tr>\n",
       "    <tr>\n",
       "      <th>4</th>\n",
       "      <td>0</td>\n",
       "      <td>0</td>\n",
       "      <td>0</td>\n",
       "      <td>0</td>\n",
       "      <td>0</td>\n",
       "      <td>0</td>\n",
       "      <td>0</td>\n",
       "      <td>0</td>\n",
       "      <td>0</td>\n",
       "      <td>0</td>\n",
       "      <td>...</td>\n",
       "      <td>0</td>\n",
       "      <td>0</td>\n",
       "      <td>0</td>\n",
       "      <td>0</td>\n",
       "      <td>0</td>\n",
       "      <td>0</td>\n",
       "      <td>0</td>\n",
       "      <td>0</td>\n",
       "      <td>0</td>\n",
       "      <td>0</td>\n",
       "    </tr>\n",
       "  </tbody>\n",
       "</table>\n",
       "<p>5 rows × 784 columns</p>\n",
       "</div>"
      ],
      "text/plain": [
       "   0    1    2    3    4    5    6    7    8    9    ...  774  775  776  777  \\\n",
       "0    0    0    0    0    0    0    0    0    0    0  ...    0    0    0    0   \n",
       "1    0    0    0    0    0    1    0    0    0    0  ...  119  114  130   76   \n",
       "2    0    0    0    0    0    0    0    0    0   22  ...    0    0    1    0   \n",
       "3    0    0    0    0    0    0    0    0   33   96  ...    0    0    0    0   \n",
       "4    0    0    0    0    0    0    0    0    0    0  ...    0    0    0    0   \n",
       "\n",
       "   778  779  780  781  782  783  \n",
       "0    0    0    0    0    0    0  \n",
       "1    0    0    0    0    0    0  \n",
       "2    0    0    0    0    0    0  \n",
       "3    0    0    0    0    0    0  \n",
       "4    0    0    0    0    0    0  \n",
       "\n",
       "[5 rows x 784 columns]"
      ]
     },
     "execution_count": 7,
     "metadata": {},
     "output_type": "execute_result"
    }
   ],
   "source": [
    "#Just examine first 5 rows.\n",
    "df_train_images.head()"
   ]
  },
  {
   "cell_type": "markdown",
   "metadata": {
    "papermill": {
     "duration": 0.053124,
     "end_time": "2020-11-15T11:58:01.759216",
     "exception": false,
     "start_time": "2020-11-15T11:58:01.706092",
     "status": "completed"
    },
    "tags": []
   },
   "source": [
    "### 2.4. Missing Values"
   ]
  },
  {
   "cell_type": "code",
   "execution_count": 8,
   "metadata": {
    "execution": {
     "iopub.execute_input": "2020-11-15T11:58:01.874502Z",
     "iopub.status.busy": "2020-11-15T11:58:01.872925Z",
     "iopub.status.idle": "2020-11-15T11:58:01.898167Z",
     "shell.execute_reply": "2020-11-15T11:58:01.897609Z"
    },
    "papermill": {
     "duration": 0.084961,
     "end_time": "2020-11-15T11:58:01.898289",
     "exception": false,
     "start_time": "2020-11-15T11:58:01.813328",
     "status": "completed"
    },
    "tags": []
   },
   "outputs": [
    {
     "name": "stdout",
     "output_type": "stream",
     "text": [
      "0\n",
      "\n",
      "---\n",
      "\n",
      "0\n"
     ]
    }
   ],
   "source": [
    "print(df_train_images.isna().any().sum())\n",
    "print(\"\\n---\\n\")\n",
    "print(df_train_labels.isna().any().sum())"
   ]
  },
  {
   "cell_type": "markdown",
   "metadata": {
    "papermill": {
     "duration": 0.049481,
     "end_time": "2020-11-15T11:58:01.998358",
     "exception": false,
     "start_time": "2020-11-15T11:58:01.948877",
     "status": "completed"
    },
    "tags": []
   },
   "source": [
    "0 and 0 it's mean that train_images and train_labels datasets have no NaN/missing values. That's good. "
   ]
  },
  {
   "cell_type": "markdown",
   "metadata": {
    "papermill": {
     "duration": 0.049424,
     "end_time": "2020-11-15T11:58:02.097978",
     "exception": false,
     "start_time": "2020-11-15T11:58:02.048554",
     "status": "completed"
    },
    "tags": []
   },
   "source": [
    "### 2.5. Check Labels"
   ]
  },
  {
   "cell_type": "code",
   "execution_count": 9,
   "metadata": {
    "execution": {
     "iopub.execute_input": "2020-11-15T11:58:02.201811Z",
     "iopub.status.busy": "2020-11-15T11:58:02.200777Z",
     "iopub.status.idle": "2020-11-15T11:58:02.206938Z",
     "shell.execute_reply": "2020-11-15T11:58:02.207688Z"
    },
    "papermill": {
     "duration": 0.061545,
     "end_time": "2020-11-15T11:58:02.207876",
     "exception": false,
     "start_time": "2020-11-15T11:58:02.146331",
     "status": "completed"
    },
    "tags": []
   },
   "outputs": [
    {
     "name": "stdout",
     "output_type": "stream",
     "text": [
      "Labels:  [9 0 3 2 7 5 1 6 4 8]\n"
     ]
    }
   ],
   "source": [
    "print(\"Labels: \",df_train_labels[0].unique())"
   ]
  },
  {
   "cell_type": "markdown",
   "metadata": {
    "papermill": {
     "duration": 0.050211,
     "end_time": "2020-11-15T11:58:02.309596",
     "exception": false,
     "start_time": "2020-11-15T11:58:02.259385",
     "status": "completed"
    },
    "tags": []
   },
   "source": [
    "Labels' mean is features or type of clothe like t-shirt,dress etc. We can see that 10 features/classes exist. Let's define them in a dictionary. "
   ]
  },
  {
   "cell_type": "code",
   "execution_count": 10,
   "metadata": {
    "execution": {
     "iopub.execute_input": "2020-11-15T11:58:02.416042Z",
     "iopub.status.busy": "2020-11-15T11:58:02.415179Z",
     "iopub.status.idle": "2020-11-15T11:58:02.418474Z",
     "shell.execute_reply": "2020-11-15T11:58:02.417956Z"
    },
    "papermill": {
     "duration": 0.058008,
     "end_time": "2020-11-15T11:58:02.418582",
     "exception": false,
     "start_time": "2020-11-15T11:58:02.360574",
     "status": "completed"
    },
    "tags": []
   },
   "outputs": [],
   "source": [
    "'''\n",
    "    0 = T-shirt/top\n",
    "    1 = Trouser\n",
    "    2 = Pullover\n",
    "    3 = Dress\n",
    "    4 = Coat\n",
    "    5 = Sandal\n",
    "    6 = Shirt\n",
    "    7 = Sneaker\n",
    "    8 = Bag\n",
    "    9 = Ankle boot\n",
    "'''\n",
    "clothes_dict = {0:'T-shirt/top', \n",
    "               1:'Trouser',\n",
    "               2:'Pullover',\n",
    "               3:'Dress',\n",
    "               4:'Coat',\n",
    "               5:'Sandal',\n",
    "               6:'Shirt',\n",
    "               7:'Sneaker',\n",
    "               8:'Bag',\n",
    "               9:'Ankle boot'}\n"
   ]
  },
  {
   "cell_type": "markdown",
   "metadata": {
    "papermill": {
     "duration": 0.047688,
     "end_time": "2020-11-15T11:58:02.514392",
     "exception": false,
     "start_time": "2020-11-15T11:58:02.466704",
     "status": "completed"
    },
    "tags": []
   },
   "source": [
    "Now we can define a dictionary to show our labels. To get quickly result, define a function."
   ]
  },
  {
   "cell_type": "code",
   "execution_count": 11,
   "metadata": {
    "execution": {
     "iopub.execute_input": "2020-11-15T11:58:02.617422Z",
     "iopub.status.busy": "2020-11-15T11:58:02.616511Z",
     "iopub.status.idle": "2020-11-15T11:58:02.623107Z",
     "shell.execute_reply": "2020-11-15T11:58:02.623653Z"
    },
    "papermill": {
     "duration": 0.061591,
     "end_time": "2020-11-15T11:58:02.623818",
     "exception": false,
     "start_time": "2020-11-15T11:58:02.562227",
     "status": "completed"
    },
    "tags": []
   },
   "outputs": [
    {
     "name": "stdout",
     "output_type": "stream",
     "text": [
      "\t Clothes\n",
      "-----------\n",
      "0  -->  T-shirt/top\n",
      "1  -->  Trouser\n",
      "2  -->  Pullover\n",
      "3  -->  Dress\n",
      "4  -->  Coat\n",
      "5  -->  Sandal\n",
      "6  -->  Shirt\n",
      "7  -->  Sneaker\n",
      "8  -->  Bag\n",
      "9  -->  Ankle boot\n"
     ]
    }
   ],
   "source": [
    "def get_cloth(index):\n",
    "    '''\n",
    "    Input:\n",
    "    index = index of cloth in dict.\n",
    "    \n",
    "    Output:\n",
    "    return value of the index in dict.\n",
    "    '''\n",
    "    \n",
    "    val = clothes_dict.get(index)\n",
    "    return val\n",
    "\n",
    "# Let's write them all for check.\n",
    "\n",
    "print(\"\\t Clothes\\n-----------\")\n",
    "for key in clothes_dict.keys():\n",
    "    print(key,\" --> \",get_cloth(key))\n",
    "    "
   ]
  },
  {
   "cell_type": "markdown",
   "metadata": {
    "papermill": {
     "duration": 0.047727,
     "end_time": "2020-11-15T11:58:02.719633",
     "exception": false,
     "start_time": "2020-11-15T11:58:02.671906",
     "status": "completed"
    },
    "tags": []
   },
   "source": [
    "### 2.6. Class Imbalance"
   ]
  },
  {
   "cell_type": "code",
   "execution_count": 12,
   "metadata": {
    "execution": {
     "iopub.execute_input": "2020-11-15T11:58:02.824686Z",
     "iopub.status.busy": "2020-11-15T11:58:02.823735Z",
     "iopub.status.idle": "2020-11-15T11:58:03.050934Z",
     "shell.execute_reply": "2020-11-15T11:58:03.049834Z"
    },
    "papermill": {
     "duration": 0.282982,
     "end_time": "2020-11-15T11:58:03.051058",
     "exception": false,
     "start_time": "2020-11-15T11:58:02.768076",
     "status": "completed"
    },
    "tags": []
   },
   "outputs": [
    {
     "name": "stdout",
     "output_type": "stream",
     "text": [
      "7    5045\n",
      "8    5032\n",
      "6    5030\n",
      "1    5012\n",
      "5    5004\n",
      "2    4992\n",
      "9    4979\n",
      "3    4979\n",
      "0    4977\n",
      "4    4950\n",
      "dtype: int64\n"
     ]
    },
    {
     "data": {
      "text/plain": [
       "<function matplotlib.pyplot.show(*args, **kw)>"
      ]
     },
     "execution_count": 12,
     "metadata": {},
     "output_type": "execute_result"
    },
    {
     "data": {
      "image/png": "[encoded data removed]",
      "text/plain": [
       "<Figure size 432x288 with 1 Axes>"
      ]
     },
     "metadata": {
      "needs_background": "light"
     },
     "output_type": "display_data"
    }
   ],
   "source": [
    "print(df_train_labels.value_counts())\n",
    "\n",
    "\n",
    "\n",
    "sns.countplot(x=0,data=df_train_labels)\n",
    "plt.xlabel(\"Labels\")\n",
    "plt.ylabel(\"Counts\")\n",
    "plt.title(\"distiribution of labels\")\n",
    "plt.show"
   ]
  },
  {
   "cell_type": "markdown",
   "metadata": {
    "papermill": {
     "duration": 0.049943,
     "end_time": "2020-11-15T11:58:03.153183",
     "exception": false,
     "start_time": "2020-11-15T11:58:03.103240",
     "status": "completed"
    },
    "tags": []
   },
   "source": [
    "Our labels' count are very close to each other. So we probably say that dataset has no class imbalance problem. Good!"
   ]
  },
  {
   "cell_type": "markdown",
   "metadata": {
    "papermill": {
     "duration": 0.051679,
     "end_time": "2020-11-15T11:58:03.256797",
     "exception": false,
     "start_time": "2020-11-15T11:58:03.205118",
     "status": "completed"
    },
    "tags": []
   },
   "source": [
    "### 2.7. Data Visualization"
   ]
  },
  {
   "cell_type": "markdown",
   "metadata": {
    "papermill": {
     "duration": 0.053264,
     "end_time": "2020-11-15T11:58:03.365071",
     "exception": false,
     "start_time": "2020-11-15T11:58:03.311807",
     "status": "completed"
    },
    "tags": []
   },
   "source": [
    "Now, we examine some datas in our images dataset."
   ]
  },
  {
   "cell_type": "code",
   "execution_count": 13,
   "metadata": {
    "execution": {
     "iopub.execute_input": "2020-11-15T11:58:03.475025Z",
     "iopub.status.busy": "2020-11-15T11:58:03.473990Z",
     "iopub.status.idle": "2020-11-15T11:58:03.873302Z",
     "shell.execute_reply": "2020-11-15T11:58:03.873877Z"
    },
    "papermill": {
     "duration": 0.459084,
     "end_time": "2020-11-15T11:58:03.874033",
     "exception": false,
     "start_time": "2020-11-15T11:58:03.414949",
     "status": "completed"
    },
    "tags": []
   },
   "outputs": [
    {
     "data": {
      "image/png": "[encoded data removed]",
      "text/plain": [
       "<Figure size 720x720 with 9 Axes>"
      ]
     },
     "metadata": {},
     "output_type": "display_data"
    }
   ],
   "source": [
    "plt.figure(figsize=(10,10))\n",
    "for i in range (9):\n",
    "  plt.subplot(3,3,i+1)\n",
    "  plt.xticks([])\n",
    "  plt.yticks([])\n",
    "  plt.grid(False)\n",
    "  plt.imshow(train_images[i], cmap=plt.cm.binary) #binary - black an white image\n",
    "  plt.xlabel(\"Label:{0} = {1}\".format(train_labels[i], clothes_dict[train_labels[i]]))\n",
    "plt.show()\n"
   ]
  },
  {
   "cell_type": "markdown",
   "metadata": {
    "papermill": {
     "duration": 0.056027,
     "end_time": "2020-11-15T11:58:03.990528",
     "exception": false,
     "start_time": "2020-11-15T11:58:03.934501",
     "status": "completed"
    },
    "tags": []
   },
   "source": [
    "# 3.Preprocessing "
   ]
  },
  {
   "cell_type": "markdown",
   "metadata": {
    "papermill": {
     "duration": 0.059211,
     "end_time": "2020-11-15T11:58:04.108050",
     "exception": false,
     "start_time": "2020-11-15T11:58:04.048839",
     "status": "completed"
    },
    "tags": []
   },
   "source": [
    "### 3.1. Reshape"
   ]
  },
  {
   "cell_type": "code",
   "execution_count": 14,
   "metadata": {
    "execution": {
     "iopub.execute_input": "2020-11-15T11:58:04.228412Z",
     "iopub.status.busy": "2020-11-15T11:58:04.227523Z",
     "iopub.status.idle": "2020-11-15T11:58:04.233639Z",
     "shell.execute_reply": "2020-11-15T11:58:04.232894Z"
    },
    "papermill": {
     "duration": 0.066822,
     "end_time": "2020-11-15T11:58:04.233790",
     "exception": false,
     "start_time": "2020-11-15T11:58:04.166968",
     "status": "completed"
    },
    "tags": []
   },
   "outputs": [
    {
     "name": "stdout",
     "output_type": "stream",
     "text": [
      "Train images shape:  (50000, 28, 28, 1)\n",
      "Test images shape:  (9999, 28, 28, 1)\n"
     ]
    }
   ],
   "source": [
    "train_images_reshaped = train_images.reshape(-1,img_w,img_h,ch)\n",
    "dev_images_reshaped = dev_images.reshape(-1,img_w,img_h,ch)\n",
    "\n",
    "print(\"Train images shape: \",train_images_reshaped.shape)\n",
    "print(\"Test images shape: \",dev_images_reshaped.shape)"
   ]
  },
  {
   "cell_type": "markdown",
   "metadata": {
    "papermill": {
     "duration": 0.086741,
     "end_time": "2020-11-15T11:58:04.389263",
     "exception": false,
     "start_time": "2020-11-15T11:58:04.302522",
     "status": "completed"
    },
    "tags": []
   },
   "source": [
    "### 3.2. Data Augmentation"
   ]
  },
  {
   "cell_type": "code",
   "execution_count": 15,
   "metadata": {
    "execution": {
     "iopub.execute_input": "2020-11-15T11:58:04.567542Z",
     "iopub.status.busy": "2020-11-15T11:58:04.566592Z",
     "iopub.status.idle": "2020-11-15T11:58:04.570601Z",
     "shell.execute_reply": "2020-11-15T11:58:04.571254Z"
    },
    "papermill": {
     "duration": 0.091451,
     "end_time": "2020-11-15T11:58:04.571479",
     "exception": false,
     "start_time": "2020-11-15T11:58:04.480028",
     "status": "completed"
    },
    "tags": []
   },
   "outputs": [],
   "source": [
    "data_generator = ImageDataGenerator(\n",
    "    featurewise_center = False,  \n",
    "    samplewise_center = False, \n",
    "    featurewise_std_normalization = False,\n",
    "    samplewise_std_normalization = False,\n",
    "    zca_whitening = False, \n",
    "    rotation_range = 15, \n",
    "    zoom_range = 0.1,\n",
    "    width_shift_range = 0.1, \n",
    "    height_shift_range = 0.1, \n",
    "    horizontal_flip = False,\n",
    "    vertical_flip = False,\n",
    "    \n",
    ")"
   ]
  },
  {
   "cell_type": "markdown",
   "metadata": {
    "papermill": {
     "duration": 0.077629,
     "end_time": "2020-11-15T11:58:04.727341",
     "exception": false,
     "start_time": "2020-11-15T11:58:04.649712",
     "status": "completed"
    },
    "tags": []
   },
   "source": [
    "### 3.3. Normalization"
   ]
  },
  {
   "cell_type": "code",
   "execution_count": 16,
   "metadata": {
    "execution": {
     "iopub.execute_input": "2020-11-15T11:58:04.893703Z",
     "iopub.status.busy": "2020-11-15T11:58:04.892721Z",
     "iopub.status.idle": "2020-11-15T11:58:04.987706Z",
     "shell.execute_reply": "2020-11-15T11:58:04.988686Z"
    },
    "papermill": {
     "duration": 0.18557,
     "end_time": "2020-11-15T11:58:04.988833",
     "exception": false,
     "start_time": "2020-11-15T11:58:04.803263",
     "status": "completed"
    },
    "tags": []
   },
   "outputs": [
    {
     "name": "stdout",
     "output_type": "stream",
     "text": [
      "Scaled Training Images Shape: (50000, 28, 28, 1)\n",
      "Scaled Test Images Shape: (9999, 28, 28, 1)\n"
     ]
    }
   ],
   "source": [
    "#Normalization \n",
    "# x = (x-min) / (max-min) , min = 0,black , max = 255,white\n",
    "# x = (x - 0 ) / (255 - 0) = x/255. \n",
    "\n",
    "train_images_scaled = train_images_reshaped.astype(\"float32\") / 255.\n",
    "dev_images_scaled = dev_images_reshaped.astype(\"float32\") / 255. \n",
    "print(\"Scaled Training Images Shape: \"+str(train_images_scaled.shape))\n",
    "print(\"Scaled Test Images Shape: \"+str(dev_images_scaled.shape))\n",
    "\n"
   ]
  },
  {
   "cell_type": "code",
   "execution_count": 17,
   "metadata": {
    "execution": {
     "iopub.execute_input": "2020-11-15T11:58:05.152211Z",
     "iopub.status.busy": "2020-11-15T11:58:05.151481Z",
     "iopub.status.idle": "2020-11-15T11:58:05.221728Z",
     "shell.execute_reply": "2020-11-15T11:58:05.223082Z"
    },
    "papermill": {
     "duration": 0.151409,
     "end_time": "2020-11-15T11:58:05.223276",
     "exception": false,
     "start_time": "2020-11-15T11:58:05.071867",
     "status": "completed"
    },
    "tags": []
   },
   "outputs": [],
   "source": [
    "#Apply augmentation.\n",
    "data_generator.fit(train_images_scaled)"
   ]
  },
  {
   "cell_type": "markdown",
   "metadata": {
    "papermill": {
     "duration": 0.067645,
     "end_time": "2020-11-15T11:58:05.354129",
     "exception": false,
     "start_time": "2020-11-15T11:58:05.286484",
     "status": "completed"
    },
    "tags": []
   },
   "source": [
    "### 3.4. One-hot encoding\n"
   ]
  },
  {
   "cell_type": "code",
   "execution_count": 18,
   "metadata": {
    "execution": {
     "iopub.execute_input": "2020-11-15T11:58:05.514800Z",
     "iopub.status.busy": "2020-11-15T11:58:05.513974Z",
     "iopub.status.idle": "2020-11-15T11:58:05.526417Z",
     "shell.execute_reply": "2020-11-15T11:58:05.527600Z"
    },
    "papermill": {
     "duration": 0.093744,
     "end_time": "2020-11-15T11:58:05.527783",
     "exception": false,
     "start_time": "2020-11-15T11:58:05.434039",
     "status": "completed"
    },
    "tags": []
   },
   "outputs": [
    {
     "name": "stdout",
     "output_type": "stream",
     "text": [
      "\tBefore One-hot encoding\n",
      "Test Images Shape : (50000,) Value:[9 0 0 ... 5 1 7]\n",
      "Test Labels Shape : (9999,) Value:[9 2 1 ... 1 3 0]\n",
      "\n",
      "\tAfter One-hot encoding\n",
      "Test Images Shape : (50000, 10) Value:[0. 0. 0. 0. 0. 0. 0. 0. 0. 1.]\n",
      "Test Labels Shape : (9999, 10) Value:[0. 0. 1. 0. 0. 0. 0. 0. 0. 0.]\n"
     ]
    }
   ],
   "source": [
    "#Remember we have 10 labels(classes).\n",
    "print(\"\\tBefore One-hot encoding\")\n",
    "print(\"Test Images Shape : \"+str(train_labels.shape)+\" Value:\"+str(train_labels))\n",
    "print(\"Test Labels Shape : \"+str(dev_labels.shape)+\" Value:\"+str(dev_labels))\n",
    "\n",
    "print(\"\\n\\tAfter One-hot encoding\")\n",
    "\n",
    "train_labels_oh_enc = to_categorical(train_labels,10)\n",
    "dev_labels_oh_enc = to_categorical(dev_labels,10)\n",
    "\n",
    "print(\"Test Images Shape : \"+str(train_labels_oh_enc.shape)+\" Value:\"+str(train_labels_oh_enc[0]))\n",
    "print(\"Test Labels Shape : \"+str(dev_labels_oh_enc.shape)+\" Value:\"+str(dev_labels_oh_enc[1]))\n",
    "\n"
   ]
  },
  {
   "cell_type": "markdown",
   "metadata": {
    "papermill": {
     "duration": 0.069325,
     "end_time": "2020-11-15T11:58:05.676530",
     "exception": false,
     "start_time": "2020-11-15T11:58:05.607205",
     "status": "completed"
    },
    "tags": []
   },
   "source": [
    "# 4. Model"
   ]
  },
  {
   "cell_type": "code",
   "execution_count": 19,
   "metadata": {
    "execution": {
     "iopub.execute_input": "2020-11-15T11:58:05.793318Z",
     "iopub.status.busy": "2020-11-15T11:58:05.791217Z",
     "iopub.status.idle": "2020-11-15T11:58:05.794004Z",
     "shell.execute_reply": "2020-11-15T11:58:05.794592Z"
    },
    "papermill": {
     "duration": 0.06403,
     "end_time": "2020-11-15T11:58:05.794730",
     "exception": false,
     "start_time": "2020-11-15T11:58:05.730700",
     "status": "completed"
    },
    "tags": []
   },
   "outputs": [],
   "source": [
    "input_shape = img_shape\n",
    "batch_size = 64\n",
    "epoch = 15"
   ]
  },
  {
   "cell_type": "markdown",
   "metadata": {
    "papermill": {
     "duration": 0.054668,
     "end_time": "2020-11-15T11:58:05.904180",
     "exception": false,
     "start_time": "2020-11-15T11:58:05.849512",
     "status": "completed"
    },
    "tags": []
   },
   "source": [
    "### 4.1. Define Blocks"
   ]
  },
  {
   "cell_type": "code",
   "execution_count": 20,
   "metadata": {
    "execution": {
     "iopub.execute_input": "2020-11-15T11:58:06.029351Z",
     "iopub.status.busy": "2020-11-15T11:58:06.027496Z",
     "iopub.status.idle": "2020-11-15T11:58:06.030129Z",
     "shell.execute_reply": "2020-11-15T11:58:06.030624Z"
    },
    "papermill": {
     "duration": 0.070767,
     "end_time": "2020-11-15T11:58:06.030745",
     "exception": false,
     "start_time": "2020-11-15T11:58:05.959978",
     "status": "completed"
    },
    "tags": []
   },
   "outputs": [],
   "source": [
    "def base_layer(filter,input_shape):\n",
    "  model = Sequential([\n",
    "                      Conv2D(filters=filter,kernel_size=(3,3),padding='same',activation='relu',input_shape=input_shape)\n",
    "  ],name='InitLayer')\n",
    "  return model\n",
    "def conv_layer(filter):\n",
    "  model = Sequential([\n",
    "                      Conv2D(filters=filter,kernel_size=(3,3),padding='same',activation='relu'),\n",
    "                      Conv2D(filters=filter,kernel_size=(3,3),padding='same',activation='relu'),\n",
    "                      BatchNormalization(),\n",
    "                      MaxPool2D(pool_size=(2,2))\n",
    "  ])\n",
    "  return model\n",
    "def dense_layer(unit,dropout_rate):\n",
    "  model = Sequential([\n",
    "                      Dense(units=unit,activation='relu'),\n",
    "                      BatchNormalization(),\n",
    "                      Dropout(dropout_rate)\n",
    "  ])\n",
    "  return model\n",
    "def output_layer(classes):\n",
    "  model = Sequential([\n",
    "                      Dense(classes, activation='softmax')\n",
    "  ],name='OutputLayer')\n",
    "  return model"
   ]
  },
  {
   "cell_type": "markdown",
   "metadata": {
    "papermill": {
     "duration": 0.054568,
     "end_time": "2020-11-15T11:58:06.140400",
     "exception": false,
     "start_time": "2020-11-15T11:58:06.085832",
     "status": "completed"
    },
    "tags": []
   },
   "source": [
    "### 4.2. Create Model"
   ]
  },
  {
   "cell_type": "markdown",
   "metadata": {
    "papermill": {
     "duration": 0.055142,
     "end_time": "2020-11-15T11:58:06.289344",
     "exception": false,
     "start_time": "2020-11-15T11:58:06.234202",
     "status": "completed"
    },
    "tags": []
   },
   "source": [
    "Let's create our model by using defining blocks."
   ]
  },
  {
   "cell_type": "code",
   "execution_count": 21,
   "metadata": {
    "execution": {
     "iopub.execute_input": "2020-11-15T11:58:06.415022Z",
     "iopub.status.busy": "2020-11-15T11:58:06.414055Z",
     "iopub.status.idle": "2020-11-15T11:58:06.416837Z",
     "shell.execute_reply": "2020-11-15T11:58:06.417326Z"
    },
    "papermill": {
     "duration": 0.070068,
     "end_time": "2020-11-15T11:58:06.417496",
     "exception": false,
     "start_time": "2020-11-15T11:58:06.347428",
     "status": "completed"
    },
    "tags": []
   },
   "outputs": [],
   "source": [
    "def yeniModelOlustur(input_shape=img_shape):\n",
    "  model = Sequential([\n",
    "                      base_layer(16,input_shape),\n",
    "                      Conv2D(16,3,padding='same',activation='relu'),\n",
    "                      conv_layer(32),\n",
    "                      Dropout(0.1),\n",
    "                      conv_layer(64),\n",
    "                      Dropout(0.2),\n",
    "                      conv_layer(128),\n",
    "                      Dropout(0.25),\n",
    "                      conv_layer(256),\n",
    "                      Conv2D(256,3,padding='same',activation='relu'),\n",
    "                      Dropout(0.3),\n",
    "                      MaxPool2D(pool_size=(2,2),padding='same'),\n",
    "                      Flatten(),\n",
    "                      dense_layer(128,0.6),\n",
    "                      dense_layer(64,0.4),\n",
    "                      output_layer(10)\n",
    "  ])\n",
    "  return model"
   ]
  },
  {
   "cell_type": "markdown",
   "metadata": {
    "papermill": {
     "duration": 0.056372,
     "end_time": "2020-11-15T11:58:06.529153",
     "exception": false,
     "start_time": "2020-11-15T11:58:06.472781",
     "status": "completed"
    },
    "tags": []
   },
   "source": [
    "### 4.3. Define Metrics and Algorithms"
   ]
  },
  {
   "cell_type": "code",
   "execution_count": 22,
   "metadata": {
    "execution": {
     "iopub.execute_input": "2020-11-15T11:58:06.642399Z",
     "iopub.status.busy": "2020-11-15T11:58:06.641444Z",
     "iopub.status.idle": "2020-11-15T11:58:09.809009Z",
     "shell.execute_reply": "2020-11-15T11:58:09.808267Z"
    },
    "papermill": {
     "duration": 3.226141,
     "end_time": "2020-11-15T11:58:09.809138",
     "exception": false,
     "start_time": "2020-11-15T11:58:06.582997",
     "status": "completed"
    },
    "tags": []
   },
   "outputs": [
    {
     "name": "stdout",
     "output_type": "stream",
     "text": [
      "Model: \"sequential_6\"\n",
      "_________________________________________________________________\n",
      "Layer (type)                 Output Shape              Param #   \n",
      "=================================================================\n",
      "InitLayer (Sequential)       (None, 28, 28, 16)        160       \n",
      "_________________________________________________________________\n",
      "conv2d_1 (Conv2D)            (None, 28, 28, 16)        2320      \n",
      "_________________________________________________________________\n",
      "sequential (Sequential)      (None, 14, 14, 32)        14016     \n",
      "_________________________________________________________________\n",
      "dropout (Dropout)            (None, 14, 14, 32)        0         \n",
      "_________________________________________________________________\n",
      "sequential_1 (Sequential)    (None, 7, 7, 64)          55680     \n",
      "_________________________________________________________________\n",
      "dropout_1 (Dropout)          (None, 7, 7, 64)          0         \n",
      "_________________________________________________________________\n",
      "sequential_2 (Sequential)    (None, 3, 3, 128)         221952    \n",
      "_________________________________________________________________\n",
      "dropout_2 (Dropout)          (None, 3, 3, 128)         0         \n",
      "_________________________________________________________________\n",
      "sequential_3 (Sequential)    (None, 1, 1, 256)         886272    \n",
      "_________________________________________________________________\n",
      "conv2d_10 (Conv2D)           (None, 1, 1, 256)         590080    \n",
      "_________________________________________________________________\n",
      "dropout_3 (Dropout)          (None, 1, 1, 256)         0         \n",
      "_________________________________________________________________\n",
      "max_pooling2d_4 (MaxPooling2 (None, 1, 1, 256)         0         \n",
      "_________________________________________________________________\n",
      "flatten (Flatten)            (None, 256)               0         \n",
      "_________________________________________________________________\n",
      "sequential_4 (Sequential)    (None, 128)               33408     \n",
      "_________________________________________________________________\n",
      "sequential_5 (Sequential)    (None, 64)                8512      \n",
      "_________________________________________________________________\n",
      "OutputLayer (Sequential)     (None, 10)                650       \n",
      "=================================================================\n",
      "Total params: 1,813,050\n",
      "Trainable params: 1,811,706\n",
      "Non-trainable params: 1,344\n",
      "_________________________________________________________________\n"
     ]
    }
   ],
   "source": [
    "m = yeniModelOlustur()\n",
    "m.compile(loss='categorical_crossentropy',optimizer='adam',metrics=['accuracy'])\n",
    "m.summary()\n"
   ]
  },
  {
   "cell_type": "markdown",
   "metadata": {
    "papermill": {
     "duration": 0.057707,
     "end_time": "2020-11-15T11:58:09.925236",
     "exception": false,
     "start_time": "2020-11-15T11:58:09.867529",
     "status": "completed"
    },
    "tags": []
   },
   "source": [
    "### 4.4. Train"
   ]
  },
  {
   "cell_type": "code",
   "execution_count": 23,
   "metadata": {
    "execution": {
     "iopub.execute_input": "2020-11-15T11:58:10.042488Z",
     "iopub.status.busy": "2020-11-15T11:58:10.041713Z",
     "iopub.status.idle": "2020-11-15T12:00:20.392424Z",
     "shell.execute_reply": "2020-11-15T12:00:20.393172Z"
    },
    "papermill": {
     "duration": 130.413159,
     "end_time": "2020-11-15T12:00:20.393388",
     "exception": false,
     "start_time": "2020-11-15T11:58:09.980229",
     "status": "completed"
    },
    "tags": []
   },
   "outputs": [
    {
     "name": "stdout",
     "output_type": "stream",
     "text": [
      "Epoch 1/15\n",
      "782/782 [==============================] - 9s 12ms/step - loss: 0.8956 - accuracy: 0.6923 - val_loss: 0.5306 - val_accuracy: 0.8159\n",
      "Epoch 2/15\n",
      "782/782 [==============================] - 9s 11ms/step - loss: 0.4632 - accuracy: 0.8467 - val_loss: 0.3211 - val_accuracy: 0.8879\n",
      "Epoch 3/15\n",
      "782/782 [==============================] - 8s 11ms/step - loss: 0.3814 - accuracy: 0.8758 - val_loss: 0.3278 - val_accuracy: 0.8847\n",
      "Epoch 4/15\n",
      "782/782 [==============================] - 8s 11ms/step - loss: 0.3338 - accuracy: 0.8900 - val_loss: 0.3490 - val_accuracy: 0.8833\n",
      "Epoch 5/15\n",
      "782/782 [==============================] - 8s 11ms/step - loss: 0.3074 - accuracy: 0.8990 - val_loss: 0.2955 - val_accuracy: 0.8946\n",
      "Epoch 6/15\n",
      "782/782 [==============================] - 8s 10ms/step - loss: 0.2875 - accuracy: 0.9058 - val_loss: 0.2415 - val_accuracy: 0.9168\n",
      "Epoch 7/15\n",
      "782/782 [==============================] - 8s 11ms/step - loss: 0.2610 - accuracy: 0.9151 - val_loss: 0.2912 - val_accuracy: 0.9033\n",
      "Epoch 8/15\n",
      "782/782 [==============================] - 8s 10ms/step - loss: 0.2462 - accuracy: 0.9186 - val_loss: 0.2301 - val_accuracy: 0.9199\n",
      "Epoch 9/15\n",
      "782/782 [==============================] - 9s 11ms/step - loss: 0.2370 - accuracy: 0.9225 - val_loss: 0.2280 - val_accuracy: 0.9213\n",
      "Epoch 10/15\n",
      "782/782 [==============================] - 8s 11ms/step - loss: 0.2228 - accuracy: 0.9267 - val_loss: 0.2997 - val_accuracy: 0.9013\n",
      "Epoch 11/15\n",
      "782/782 [==============================] - 8s 11ms/step - loss: 0.2101 - accuracy: 0.9324 - val_loss: 0.2632 - val_accuracy: 0.9158\n",
      "Epoch 12/15\n",
      "782/782 [==============================] - 8s 10ms/step - loss: 0.2026 - accuracy: 0.9339 - val_loss: 0.2102 - val_accuracy: 0.9300\n",
      "Epoch 13/15\n",
      "782/782 [==============================] - 8s 10ms/step - loss: 0.1918 - accuracy: 0.9386 - val_loss: 0.2201 - val_accuracy: 0.9285\n",
      "Epoch 14/15\n",
      "782/782 [==============================] - 8s 10ms/step - loss: 0.1783 - accuracy: 0.9423 - val_loss: 0.2506 - val_accuracy: 0.9190\n",
      "Epoch 15/15\n",
      "782/782 [==============================] - 8s 10ms/step - loss: 0.1734 - accuracy: 0.9434 - val_loss: 0.2199 - val_accuracy: 0.9297\n"
     ]
    }
   ],
   "source": [
    "train_images_final, dev_images_final = train_images_scaled,dev_images_scaled\n",
    "history = m.fit(train_images_final,train_labels_oh_enc,\n",
    "                    batch_size=batch_size,\n",
    "                    epochs=epoch,\n",
    "                    verbose=1,\n",
    "                    validation_data=(dev_images_final,dev_labels_oh_enc))\n"
   ]
  },
  {
   "cell_type": "markdown",
   "metadata": {
    "papermill": {
     "duration": 0.824389,
     "end_time": "2020-11-15T12:00:22.039218",
     "exception": false,
     "start_time": "2020-11-15T12:00:21.214829",
     "status": "completed"
    },
    "tags": []
   },
   "source": [
    "### 4.5. Evaluation"
   ]
  },
  {
   "cell_type": "code",
   "execution_count": 24,
   "metadata": {
    "execution": {
     "iopub.execute_input": "2020-11-15T12:00:23.709777Z",
     "iopub.status.busy": "2020-11-15T12:00:23.708686Z",
     "iopub.status.idle": "2020-11-15T12:00:24.923232Z",
     "shell.execute_reply": "2020-11-15T12:00:24.922488Z"
    },
    "papermill": {
     "duration": 2.059383,
     "end_time": "2020-11-15T12:00:24.923357",
     "exception": false,
     "start_time": "2020-11-15T12:00:22.863974",
     "status": "completed"
    },
    "tags": []
   },
   "outputs": [
    {
     "name": "stdout",
     "output_type": "stream",
     "text": [
      "313/313 [==============================] - 1s 3ms/step - loss: 0.2443 - accuracy: 0.9232\n",
      "\n",
      "\t  Accuracy Rates\n",
      "\t--------------------\n",
      "Train:  0.9434000253677368 \n",
      "Dev:  0.9296929836273193 \n",
      "Test:  0.9232000112533569\n"
     ]
    }
   ],
   "source": [
    "test_labels_oh_enc = to_categorical(test_labels,10)\n",
    "predict_acc = m.evaluate(test_images.reshape(-1,28,28,1).astype(\"float32\")/255.,test_labels_oh_enc)\n",
    "print('\\n\\t  Accuracy Rates\\n'+\n",
    "      '\\t--------------------\\n'+\n",
    "      'Train: ',history.history[\"accuracy\"][-1],\n",
    "      '\\nDev: ',history.history['val_accuracy'][-1],\n",
    "      '\\nTest: ',predict_acc[1])"
   ]
  },
  {
   "cell_type": "code",
   "execution_count": 25,
   "metadata": {
    "execution": {
     "iopub.execute_input": "2020-11-15T12:00:27.015606Z",
     "iopub.status.busy": "2020-11-15T12:00:27.014600Z",
     "iopub.status.idle": "2020-11-15T12:00:27.410869Z",
     "shell.execute_reply": "2020-11-15T12:00:27.411396Z"
    },
    "papermill": {
     "duration": 1.492273,
     "end_time": "2020-11-15T12:00:27.411546",
     "exception": false,
     "start_time": "2020-11-15T12:00:25.919273",
     "status": "completed"
    },
    "tags": []
   },
   "outputs": [
    {
     "data": {
      "image/png": "[encoded data removed]",
      "text/plain": [
       "<Figure size 432x288 with 1 Axes>"
      ]
     },
     "metadata": {
      "needs_background": "light"
     },
     "output_type": "display_data"
    },
    {
     "data": {
      "image/png": "[encoded data removed]",
      "text/plain": [
       "<Figure size 432x288 with 1 Axes>"
      ]
     },
     "metadata": {
      "needs_background": "light"
     },
     "output_type": "display_data"
    }
   ],
   "source": [
    "#let's visualize\n",
    "plt.figure(figsize=(6,4))\n",
    "plt.plot(history.history[\"loss\"])\n",
    "plt.plot(history.history[\"val_loss\"])\n",
    "plt.title(\"Loss-Epoch Relation\")\n",
    "plt.xlabel(\"Epochs\")\n",
    "plt.ylabel(\"Loss\")\n",
    "plt.legend([\"Train\",\"Dev\"])\n",
    "plt.show()\n",
    "\n",
    "plt.plot(history.history[\"accuracy\"])\n",
    "plt.plot(history.history[\"val_accuracy\"])\n",
    "plt.xlabel(\"Epochs\")\n",
    "plt.ylabel(\"Accuracy\")\n",
    "plt.title(\"Accuracy - Epoch Relation\")\n",
    "plt.legend([\"Train\",\"Dev\"])\n",
    "plt.ylim(0.8,1)\n",
    "plt.show()\n",
    "\n"
   ]
  },
  {
   "cell_type": "markdown",
   "metadata": {
    "papermill": {
     "duration": 0.874346,
     "end_time": "2020-11-15T12:00:29.390714",
     "exception": false,
     "start_time": "2020-11-15T12:00:28.516368",
     "status": "completed"
    },
    "tags": []
   },
   "source": [
    "# 5. Fine-Tuning Model"
   ]
  },
  {
   "cell_type": "markdown",
   "metadata": {
    "papermill": {
     "duration": 1.562752,
     "end_time": "2020-11-15T12:00:31.756273",
     "exception": false,
     "start_time": "2020-11-15T12:00:30.193521",
     "status": "completed"
    },
    "tags": []
   },
   "source": [
    "### 5.1. EarlyStopping"
   ]
  },
  {
   "cell_type": "code",
   "execution_count": 26,
   "metadata": {
    "execution": {
     "iopub.execute_input": "2020-11-15T12:00:33.541606Z",
     "iopub.status.busy": "2020-11-15T12:00:33.540694Z",
     "iopub.status.idle": "2020-11-15T12:00:33.542631Z",
     "shell.execute_reply": "2020-11-15T12:00:33.543103Z"
    },
    "papermill": {
     "duration": 0.819699,
     "end_time": "2020-11-15T12:00:33.543232",
     "exception": false,
     "start_time": "2020-11-15T12:00:32.723533",
     "status": "completed"
    },
    "tags": []
   },
   "outputs": [],
   "source": [
    "checkpoint_fm = ModelCheckpoint(\"fashion_mnist_model.h5\", save_best_only=True)\n",
    "\n",
    "early_stopping_fm = EarlyStopping(patience=10, restore_best_weights=True)\n"
   ]
  },
  {
   "cell_type": "markdown",
   "metadata": {
    "papermill": {
     "duration": 0.819955,
     "end_time": "2020-11-15T12:00:35.228241",
     "exception": false,
     "start_time": "2020-11-15T12:00:34.408286",
     "status": "completed"
    },
    "tags": []
   },
   "source": [
    "### 5.2. Learning Rate Decay"
   ]
  },
  {
   "cell_type": "code",
   "execution_count": 27,
   "metadata": {
    "execution": {
     "iopub.execute_input": "2020-11-15T12:00:36.871284Z",
     "iopub.status.busy": "2020-11-15T12:00:36.869502Z",
     "iopub.status.idle": "2020-11-15T12:00:36.872033Z",
     "shell.execute_reply": "2020-11-15T12:00:36.872549Z"
    },
    "papermill": {
     "duration": 0.806002,
     "end_time": "2020-11-15T12:00:36.872693",
     "exception": false,
     "start_time": "2020-11-15T12:00:36.066691",
     "status": "completed"
    },
    "tags": []
   },
   "outputs": [],
   "source": [
    "#Learning Rate Decay as Exponential\n",
    "def exponential_decay(learning_rate, decay_step):\n",
    "    def exponential_decay_fm(epoch):\n",
    "        return learning_rate * 0.1 **(epoch / decay_step)\n",
    "    return exponential_decay_fm\n",
    "\n",
    "exponential_decay_fm = exponential_decay(0.01, 10)\n",
    "lr_scheduler = LearningRateScheduler(exponential_decay_fm)"
   ]
  },
  {
   "cell_type": "markdown",
   "metadata": {
    "papermill": {
     "duration": 0.956962,
     "end_time": "2020-11-15T12:00:38.645893",
     "exception": false,
     "start_time": "2020-11-15T12:00:37.688931",
     "status": "completed"
    },
    "tags": []
   },
   "source": [
    "### 5.3. Train Again"
   ]
  },
  {
   "cell_type": "code",
   "execution_count": 28,
   "metadata": {
    "execution": {
     "iopub.execute_input": "2020-11-15T12:00:40.457292Z",
     "iopub.status.busy": "2020-11-15T12:00:40.456213Z",
     "iopub.status.idle": "2020-11-15T12:02:45.557827Z",
     "shell.execute_reply": "2020-11-15T12:02:45.557294Z"
    },
    "papermill": {
     "duration": 125.973727,
     "end_time": "2020-11-15T12:02:45.557953",
     "exception": false,
     "start_time": "2020-11-15T12:00:39.584226",
     "status": "completed"
    },
    "tags": []
   },
   "outputs": [
    {
     "name": "stdout",
     "output_type": "stream",
     "text": [
      "Epoch 1/15\n",
      "782/782 [==============================] - 8s 10ms/step - loss: 0.4633 - accuracy: 0.8481 - val_loss: 0.3574 - val_accuracy: 0.8798\n",
      "Epoch 2/15\n",
      "782/782 [==============================] - 8s 11ms/step - loss: 0.3254 - accuracy: 0.8947 - val_loss: 0.2809 - val_accuracy: 0.9018\n",
      "Epoch 3/15\n",
      "782/782 [==============================] - 8s 11ms/step - loss: 0.2822 - accuracy: 0.9078 - val_loss: 0.2491 - val_accuracy: 0.9156\n",
      "Epoch 4/15\n",
      "782/782 [==============================] - 9s 11ms/step - loss: 0.2513 - accuracy: 0.9168 - val_loss: 0.2229 - val_accuracy: 0.9239\n",
      "Epoch 5/15\n",
      "782/782 [==============================] - 8s 10ms/step - loss: 0.2252 - accuracy: 0.9260 - val_loss: 0.2134 - val_accuracy: 0.9255\n",
      "Epoch 6/15\n",
      "782/782 [==============================] - 8s 11ms/step - loss: 0.2046 - accuracy: 0.9322 - val_loss: 0.2137 - val_accuracy: 0.9266\n",
      "Epoch 7/15\n",
      "782/782 [==============================] - 9s 11ms/step - loss: 0.1824 - accuracy: 0.9392 - val_loss: 0.2134 - val_accuracy: 0.9287\n",
      "Epoch 8/15\n",
      "782/782 [==============================] - 9s 11ms/step - loss: 0.1657 - accuracy: 0.9453 - val_loss: 0.2057 - val_accuracy: 0.9318\n",
      "Epoch 9/15\n",
      "782/782 [==============================] - 8s 10ms/step - loss: 0.1480 - accuracy: 0.9512 - val_loss: 0.1999 - val_accuracy: 0.9354\n",
      "Epoch 10/15\n",
      "782/782 [==============================] - 8s 10ms/step - loss: 0.1267 - accuracy: 0.9576 - val_loss: 0.2150 - val_accuracy: 0.9330\n",
      "Epoch 11/15\n",
      "782/782 [==============================] - 8s 11ms/step - loss: 0.1188 - accuracy: 0.9613 - val_loss: 0.2173 - val_accuracy: 0.9355\n",
      "Epoch 12/15\n",
      "782/782 [==============================] - 8s 11ms/step - loss: 0.1061 - accuracy: 0.9648 - val_loss: 0.2146 - val_accuracy: 0.9373\n",
      "Epoch 13/15\n",
      "782/782 [==============================] - 8s 11ms/step - loss: 0.0960 - accuracy: 0.9687 - val_loss: 0.2169 - val_accuracy: 0.9405\n",
      "Epoch 14/15\n",
      "782/782 [==============================] - 8s 11ms/step - loss: 0.0856 - accuracy: 0.9714 - val_loss: 0.2241 - val_accuracy: 0.9387\n",
      "Epoch 15/15\n",
      "782/782 [==============================] - 8s 11ms/step - loss: 0.0843 - accuracy: 0.9731 - val_loss: 0.2337 - val_accuracy: 0.9370\n"
     ]
    }
   ],
   "source": [
    "history = m.fit(train_images_final,train_labels_oh_enc,\n",
    "                    batch_size=batch_size,\n",
    "                    epochs=epoch,\n",
    "                    verbose=1,\n",
    "                    validation_data=(dev_images_final,dev_labels_oh_enc),\n",
    "                callbacks=[checkpoint_fm, early_stopping_fm, lr_scheduler])\n",
    "\n"
   ]
  },
  {
   "cell_type": "markdown",
   "metadata": {
    "papermill": {
     "duration": 1.503954,
     "end_time": "2020-11-15T12:02:48.560233",
     "exception": false,
     "start_time": "2020-11-15T12:02:47.056279",
     "status": "completed"
    },
    "tags": []
   },
   "source": [
    "### 5.4. Evaluation"
   ]
  },
  {
   "cell_type": "code",
   "execution_count": 29,
   "metadata": {
    "execution": {
     "iopub.execute_input": "2020-11-15T12:02:51.826563Z",
     "iopub.status.busy": "2020-11-15T12:02:51.820087Z",
     "iopub.status.idle": "2020-11-15T12:02:53.296822Z",
     "shell.execute_reply": "2020-11-15T12:02:53.295718Z"
    },
    "papermill": {
     "duration": 3.208603,
     "end_time": "2020-11-15T12:02:53.296959",
     "exception": false,
     "start_time": "2020-11-15T12:02:50.088356",
     "status": "completed"
    },
    "tags": []
   },
   "outputs": [
    {
     "data": {
      "image/png": "[encoded data removed]",
      "text/plain": [
       "<Figure size 432x288 with 1 Axes>"
      ]
     },
     "metadata": {
      "needs_background": "light"
     },
     "output_type": "display_data"
    },
    {
     "data": {
      "image/png": "[encoded data removed]",
      "text/plain": [
       "<Figure size 432x288 with 1 Axes>"
      ]
     },
     "metadata": {
      "needs_background": "light"
     },
     "output_type": "display_data"
    },
    {
     "name": "stdout",
     "output_type": "stream",
     "text": [
      "313/313 [==============================] - 1s 3ms/step - loss: 0.2466 - accuracy: 0.9353\n",
      "\n",
      "\t  Accuracy oranları\n",
      "\t--------------------\n",
      "Train:  0.9730799794197083 \n",
      "Dev:  0.9369937181472778 \n",
      "Test:  0.9352999925613403\n"
     ]
    }
   ],
   "source": [
    "plt.figure(figsize=(6,4))\n",
    "plt.plot(history.history[\"loss\"])\n",
    "plt.plot(history.history[\"val_loss\"])\n",
    "plt.title(\"Loss-Epoch Relation\")\n",
    "plt.xlabel(\"Epochs\")\n",
    "plt.ylabel(\"Loss\")\n",
    "plt.legend([\"Train\",\"Dev\"])\n",
    "plt.show()\n",
    "\n",
    "plt.plot(history.history[\"accuracy\"])\n",
    "plt.plot(history.history[\"val_accuracy\"])\n",
    "plt.xlabel(\"Epochs\")\n",
    "plt.ylabel(\"Accuracy\")\n",
    "plt.title(\"Accuracy - Epoch Relation\")\n",
    "plt.legend([\"Train\",\"Dev\"])\n",
    "plt.ylim(0.8,1)\n",
    "plt.show()\n",
    "\n",
    "\n",
    "\n",
    "predict_acc = m.evaluate(test_images.reshape(-1,28,28,1).astype(\"float32\")/255.,test_labels_oh_enc)\n",
    "print('\\n\\t  Accuracy oranları\\n'+\n",
    "      '\\t--------------------\\n'+\n",
    "      'Train: ',history.history[\"accuracy\"][-1],\n",
    "      '\\nDev: ',history.history['val_accuracy'][-1],\n",
    "      '\\nTest: ',predict_acc[1])"
   ]
  }
 ],
 "metadata": {
  "kernelspec": {
   "display_name": "Python 3",
   "language": "python",
   "name": "python3"
  },
  "language_info": {
   "codemirror_mode": {
    "name": "ipython",
    "version": 3
   },
   "file_extension": ".py",
   "mimetype": "text/x-python",
   "name": "python",
   "nbconvert_exporter": "python",
   "pygments_lexer": "ipython3",
   "version": "3.8.5"
  },
  "papermill": {
   "duration": 312.279562,
   "end_time": "2020-11-15T12:02:56.709913",
   "environment_variables": {},
   "exception": null,
   "input_path": "__notebook__.ipynb",
   "output_path": "__notebook__.ipynb",
   "parameters": {},
   "start_time": "2020-11-15T11:57:44.430351",
   "version": "2.1.0"
  }
 },
 "nbformat": 4,
 "nbformat_minor": 4
}
