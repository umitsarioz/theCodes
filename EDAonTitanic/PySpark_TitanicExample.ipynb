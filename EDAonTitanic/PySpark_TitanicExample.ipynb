{
 "cells": [
  {
   "cell_type": "code",
   "execution_count": 1,
   "metadata": {},
   "outputs": [],
   "source": [
    "import pandas as pd \n",
    "import numpy \n",
    "import matplotlib.pyplot as plt"
   ]
  },
  {
   "cell_type": "code",
   "execution_count": 2,
   "metadata": {},
   "outputs": [],
   "source": [
    "from pyspark.sql import SparkSession\n",
    "from pyspark.sql import functions as F"
   ]
  },
  {
   "cell_type": "code",
   "execution_count": 3,
   "metadata": {},
   "outputs": [
    {
     "data": {
      "text/html": [
       "<div>\n",
       "<style scoped>\n",
       "    .dataframe tbody tr th:only-of-type {\n",
       "        vertical-align: middle;\n",
       "    }\n",
       "\n",
       "    .dataframe tbody tr th {\n",
       "        vertical-align: top;\n",
       "    }\n",
       "\n",
       "    .dataframe thead th {\n",
       "        text-align: right;\n",
       "    }\n",
       "</style>\n",
       "<table border=\"1\" class=\"dataframe\">\n",
       "  <thead>\n",
       "    <tr style=\"text-align: right;\">\n",
       "      <th></th>\n",
       "      <th>PassengerId</th>\n",
       "      <th>Survived</th>\n",
       "      <th>Pclass</th>\n",
       "      <th>Name</th>\n",
       "      <th>Sex</th>\n",
       "      <th>Age</th>\n",
       "      <th>SibSp</th>\n",
       "      <th>Parch</th>\n",
       "      <th>Ticket</th>\n",
       "      <th>Fare</th>\n",
       "      <th>Cabin</th>\n",
       "      <th>Embarked</th>\n",
       "    </tr>\n",
       "  </thead>\n",
       "  <tbody>\n",
       "    <tr>\n",
       "      <th>0</th>\n",
       "      <td>1</td>\n",
       "      <td>0</td>\n",
       "      <td>3</td>\n",
       "      <td>Braund, Mr. Owen Harris</td>\n",
       "      <td>male</td>\n",
       "      <td>22.0</td>\n",
       "      <td>1</td>\n",
       "      <td>0</td>\n",
       "      <td>A/5 21171</td>\n",
       "      <td>7.2500</td>\n",
       "      <td>NaN</td>\n",
       "      <td>S</td>\n",
       "    </tr>\n",
       "    <tr>\n",
       "      <th>1</th>\n",
       "      <td>2</td>\n",
       "      <td>1</td>\n",
       "      <td>1</td>\n",
       "      <td>Cumings, Mrs. John Bradley (Florence Briggs Th...</td>\n",
       "      <td>female</td>\n",
       "      <td>38.0</td>\n",
       "      <td>1</td>\n",
       "      <td>0</td>\n",
       "      <td>PC 17599</td>\n",
       "      <td>71.2833</td>\n",
       "      <td>C85</td>\n",
       "      <td>C</td>\n",
       "    </tr>\n",
       "    <tr>\n",
       "      <th>2</th>\n",
       "      <td>3</td>\n",
       "      <td>1</td>\n",
       "      <td>3</td>\n",
       "      <td>Heikkinen, Miss. Laina</td>\n",
       "      <td>female</td>\n",
       "      <td>26.0</td>\n",
       "      <td>0</td>\n",
       "      <td>0</td>\n",
       "      <td>STON/O2. 3101282</td>\n",
       "      <td>7.9250</td>\n",
       "      <td>NaN</td>\n",
       "      <td>S</td>\n",
       "    </tr>\n",
       "    <tr>\n",
       "      <th>3</th>\n",
       "      <td>4</td>\n",
       "      <td>1</td>\n",
       "      <td>1</td>\n",
       "      <td>Futrelle, Mrs. Jacques Heath (Lily May Peel)</td>\n",
       "      <td>female</td>\n",
       "      <td>35.0</td>\n",
       "      <td>1</td>\n",
       "      <td>0</td>\n",
       "      <td>113803</td>\n",
       "      <td>53.1000</td>\n",
       "      <td>C123</td>\n",
       "      <td>S</td>\n",
       "    </tr>\n",
       "    <tr>\n",
       "      <th>4</th>\n",
       "      <td>5</td>\n",
       "      <td>0</td>\n",
       "      <td>3</td>\n",
       "      <td>Allen, Mr. William Henry</td>\n",
       "      <td>male</td>\n",
       "      <td>35.0</td>\n",
       "      <td>0</td>\n",
       "      <td>0</td>\n",
       "      <td>373450</td>\n",
       "      <td>8.0500</td>\n",
       "      <td>NaN</td>\n",
       "      <td>S</td>\n",
       "    </tr>\n",
       "  </tbody>\n",
       "</table>\n",
       "</div>"
      ],
      "text/plain": [
       "   PassengerId  Survived  Pclass  \\\n",
       "0            1         0       3   \n",
       "1            2         1       1   \n",
       "2            3         1       3   \n",
       "3            4         1       1   \n",
       "4            5         0       3   \n",
       "\n",
       "                                                Name     Sex   Age  SibSp  \\\n",
       "0                            Braund, Mr. Owen Harris    male  22.0      1   \n",
       "1  Cumings, Mrs. John Bradley (Florence Briggs Th...  female  38.0      1   \n",
       "2                             Heikkinen, Miss. Laina  female  26.0      0   \n",
       "3       Futrelle, Mrs. Jacques Heath (Lily May Peel)  female  35.0      1   \n",
       "4                           Allen, Mr. William Henry    male  35.0      0   \n",
       "\n",
       "   Parch            Ticket     Fare Cabin Embarked  \n",
       "0      0         A/5 21171   7.2500   NaN        S  \n",
       "1      0          PC 17599  71.2833   C85        C  \n",
       "2      0  STON/O2. 3101282   7.9250   NaN        S  \n",
       "3      0            113803  53.1000  C123        S  \n",
       "4      0            373450   8.0500   NaN        S  "
      ]
     },
     "execution_count": 3,
     "metadata": {},
     "output_type": "execute_result"
    }
   ],
   "source": [
    "pd_df = pd.read_csv('datasets/titanic.csv')\n",
    "pd_df.head()"
   ]
  },
  {
   "cell_type": "code",
   "execution_count": 4,
   "metadata": {},
   "outputs": [
    {
     "name": "stderr",
     "output_type": "stream",
     "text": [
      "22/04/16 21:52:20 WARN Utils: Your hostname, zoirasu resolves to a loopback address: 127.0.1.1; using 192.168.1.37 instead (on interface wlp0s20f3)\n",
      "22/04/16 21:52:20 WARN Utils: Set SPARK_LOCAL_IP if you need to bind to another address\n",
      "WARNING: An illegal reflective access operation has occurred\n",
      "WARNING: Illegal reflective access by org.apache.spark.unsafe.Platform (file:/home/umit/anaconda3/envs/aienv/lib/python3.9/site-packages/pyspark/jars/spark-unsafe_2.12-3.1.2.jar) to constructor java.nio.DirectByteBuffer(long,int)\n",
      "WARNING: Please consider reporting this to the maintainers of org.apache.spark.unsafe.Platform\n",
      "WARNING: Use --illegal-access=warn to enable warnings of further illegal reflective access operations\n",
      "WARNING: All illegal access operations will be denied in a future release\n",
      "22/04/16 21:52:20 WARN NativeCodeLoader: Unable to load native-hadoop library for your platform... using builtin-java classes where applicable\n",
      "Using Spark's default log4j profile: org/apache/spark/log4j-defaults.properties\n",
      "Setting default log level to \"WARN\".\n",
      "To adjust logging level use sc.setLogLevel(newLevel). For SparkR, use setLogLevel(newLevel).\n"
     ]
    }
   ],
   "source": [
    "spark = SparkSession.builder.appName('TitanicApp').getOrCreate()"
   ]
  },
  {
   "cell_type": "code",
   "execution_count": 5,
   "metadata": {},
   "outputs": [
    {
     "data": {
      "text/html": [
       "\n",
       "            <div>\n",
       "                <p><b>SparkSession - in-memory</b></p>\n",
       "                \n",
       "        <div>\n",
       "            <p><b>SparkContext</b></p>\n",
       "\n",
       "            <p><a href=\"http://192.168.1.37:4040\">Spark UI</a></p>\n",
       "\n",
       "            <dl>\n",
       "              <dt>Version</dt>\n",
       "                <dd><code>v3.1.2</code></dd>\n",
       "              <dt>Master</dt>\n",
       "                <dd><code>local[*]</code></dd>\n",
       "              <dt>AppName</dt>\n",
       "                <dd><code>TitanicApp</code></dd>\n",
       "            </dl>\n",
       "        </div>\n",
       "        \n",
       "            </div>\n",
       "        "
      ],
      "text/plain": [
       "<pyspark.sql.session.SparkSession at 0x7f1b65938190>"
      ]
     },
     "execution_count": 5,
     "metadata": {},
     "output_type": "execute_result"
    }
   ],
   "source": [
    "spark"
   ]
  },
  {
   "cell_type": "code",
   "execution_count": 6,
   "metadata": {},
   "outputs": [],
   "source": [
    "dfspark = spark.read.csv('datasets/titanic.csv',header=True,inferSchema=True)"
   ]
  },
  {
   "cell_type": "code",
   "execution_count": 7,
   "metadata": {},
   "outputs": [
    {
     "name": "stdout",
     "output_type": "stream",
     "text": [
      "root\n",
      " |-- PassengerId: integer (nullable = true)\n",
      " |-- Survived: integer (nullable = true)\n",
      " |-- Pclass: integer (nullable = true)\n",
      " |-- Name: string (nullable = true)\n",
      " |-- Sex: string (nullable = true)\n",
      " |-- Age: double (nullable = true)\n",
      " |-- SibSp: integer (nullable = true)\n",
      " |-- Parch: integer (nullable = true)\n",
      " |-- Ticket: string (nullable = true)\n",
      " |-- Fare: double (nullable = true)\n",
      " |-- Cabin: string (nullable = true)\n",
      " |-- Embarked: string (nullable = true)\n",
      "\n"
     ]
    }
   ],
   "source": [
    "dfspark.printSchema()"
   ]
  },
  {
   "cell_type": "code",
   "execution_count": 8,
   "metadata": {},
   "outputs": [
    {
     "data": {
      "text/plain": [
       "Row(PassengerId=1, Survived=0, Pclass=3, Name='Braund, Mr. Owen Harris', Sex='male', Age=22.0, SibSp=1, Parch=0, Ticket='A/5 21171', Fare=7.25, Cabin=None, Embarked='S')"
      ]
     },
     "execution_count": 8,
     "metadata": {},
     "output_type": "execute_result"
    }
   ],
   "source": [
    "dfspark.first()"
   ]
  },
  {
   "cell_type": "code",
   "execution_count": 9,
   "metadata": {},
   "outputs": [],
   "source": [
    "df2 = dfspark.drop('PassengerId','Name','Ticket')"
   ]
  },
  {
   "cell_type": "code",
   "execution_count": 10,
   "metadata": {},
   "outputs": [
    {
     "data": {
      "text/plain": [
       "Row(Survived=0, Pclass=3, Sex='male', Age=22.0, SibSp=1, Parch=0, Fare=7.25, Cabin=None, Embarked='S')"
      ]
     },
     "execution_count": 10,
     "metadata": {},
     "output_type": "execute_result"
    }
   ],
   "source": [
    "df2.first()"
   ]
  },
  {
   "cell_type": "code",
   "execution_count": 11,
   "metadata": {},
   "outputs": [
    {
     "data": {
      "text/plain": [
       "['Survived',\n",
       " 'Pclass',\n",
       " 'Sex',\n",
       " 'Age',\n",
       " 'SibSp',\n",
       " 'Parch',\n",
       " 'Fare',\n",
       " 'Cabin',\n",
       " 'Embarked']"
      ]
     },
     "execution_count": 11,
     "metadata": {},
     "output_type": "execute_result"
    }
   ],
   "source": [
    "df2.columns"
   ]
  },
  {
   "cell_type": "code",
   "execution_count": 12,
   "metadata": {},
   "outputs": [
    {
     "name": "stdout",
     "output_type": "stream",
     "text": [
      "+-------+-------------------+------------------+\n",
      "|summary|           Survived|            Pclass|\n",
      "+-------+-------------------+------------------+\n",
      "|  count|                891|               891|\n",
      "|   mean| 0.3838383838383838| 2.308641975308642|\n",
      "| stddev|0.48659245426485753|0.8360712409770491|\n",
      "|    min|                  0|                 1|\n",
      "|    max|                  1|                 3|\n",
      "+-------+-------------------+------------------+\n",
      "\n"
     ]
    }
   ],
   "source": [
    "dfspark.describe(['Survived','Pclass']).show()"
   ]
  },
  {
   "cell_type": "code",
   "execution_count": 13,
   "metadata": {},
   "outputs": [],
   "source": [
    "def sparkShape(datasparkFrame):\n",
    "    return (datasparkFrame.count(),len(datasparkFrame.columns))"
   ]
  },
  {
   "cell_type": "code",
   "execution_count": 14,
   "metadata": {},
   "outputs": [
    {
     "data": {
      "text/plain": [
       "(891, 9)"
      ]
     },
     "execution_count": 14,
     "metadata": {},
     "output_type": "execute_result"
    }
   ],
   "source": [
    "sparkShape(df2)"
   ]
  },
  {
   "cell_type": "code",
   "execution_count": 15,
   "metadata": {},
   "outputs": [
    {
     "data": {
      "text/plain": [
       "[Row(Survived=0, Pclass=0, Sex=0, Age=177, SibSp=0, Parch=0, Fare=0, Cabin=687, Embarked=2)]"
      ]
     },
     "execution_count": 15,
     "metadata": {},
     "output_type": "execute_result"
    }
   ],
   "source": [
    "# Find Missing Values Extended\n",
    "def findSparkDfMissingVals(sparkDataFrame):\n",
    "    missings = sparkDataFrame.select([F.count(F.when( F.col(c).isNull() | F.col(c).contains('None') | F.col(c).contains('NULL') | (F.col(c) == '') | F.isnan(c) | F.isnull(c)\n",
    "   ,c)).alias(c) for c in sparkDataFrame.columns])\n",
    "    return missings.collect()\n",
    "\n",
    "missing_vals = findSparkDfMissingVals(df2)\n",
    "missing_vals"
   ]
  },
  {
   "cell_type": "code",
   "execution_count": 16,
   "metadata": {},
   "outputs": [
    {
     "data": {
      "text/plain": [
       "['Survived', 'Pclass', 'Sex', 'Age', 'SibSp', 'Parch', 'Fare', 'Embarked']"
      ]
     },
     "execution_count": 16,
     "metadata": {},
     "output_type": "execute_result"
    }
   ],
   "source": [
    "df2 = df2.drop('Cabin')\n",
    "df2.columns"
   ]
  },
  {
   "cell_type": "code",
   "execution_count": 17,
   "metadata": {},
   "outputs": [],
   "source": [
    "from pyspark.ml.feature import Imputer"
   ]
  },
  {
   "cell_type": "code",
   "execution_count": 18,
   "metadata": {},
   "outputs": [],
   "source": [
    "mean_imputer = Imputer(inputCol='Age',outputCol='Age_updated',strategy='mean')\n",
    "model = mean_imputer.fit(df2)\n",
    "dfupdated = model.transform(df2)"
   ]
  },
  {
   "cell_type": "code",
   "execution_count": 19,
   "metadata": {},
   "outputs": [
    {
     "data": {
      "text/plain": [
       "[Row(Survived=0, Pclass=3, Sex='male', Age=22.0, SibSp=1, Parch=0, Fare=7.25, Embarked='S', Age_updated=22.0),\n",
       " Row(Survived=1, Pclass=1, Sex='female', Age=38.0, SibSp=1, Parch=0, Fare=71.2833, Embarked='C', Age_updated=38.0),\n",
       " Row(Survived=1, Pclass=3, Sex='female', Age=26.0, SibSp=0, Parch=0, Fare=7.925, Embarked='S', Age_updated=26.0),\n",
       " Row(Survived=1, Pclass=1, Sex='female', Age=35.0, SibSp=1, Parch=0, Fare=53.1, Embarked='S', Age_updated=35.0),\n",
       " Row(Survived=0, Pclass=3, Sex='male', Age=35.0, SibSp=0, Parch=0, Fare=8.05, Embarked='S', Age_updated=35.0)]"
      ]
     },
     "execution_count": 19,
     "metadata": {},
     "output_type": "execute_result"
    }
   ],
   "source": [
    "dfupdated.head(5)"
   ]
  },
  {
   "cell_type": "code",
   "execution_count": 20,
   "metadata": {},
   "outputs": [
    {
     "name": "stdout",
     "output_type": "stream",
     "text": [
      "+--------+------+------+----+-----+-----+-------+--------+-----------------+\n",
      "|Survived|Pclass|   Sex| Age|SibSp|Parch|   Fare|Embarked|      Age_updated|\n",
      "+--------+------+------+----+-----+-----+-------+--------+-----------------+\n",
      "|       0|     3|  male|22.0|    1|    0|   7.25|       S|             22.0|\n",
      "|       1|     1|female|38.0|    1|    0|71.2833|       C|             38.0|\n",
      "|       1|     3|female|26.0|    0|    0|  7.925|       S|             26.0|\n",
      "|       1|     1|female|35.0|    1|    0|   53.1|       S|             35.0|\n",
      "|       0|     3|  male|35.0|    0|    0|   8.05|       S|             35.0|\n",
      "|       0|     3|  male|null|    0|    0| 8.4583|       Q|29.69911764705882|\n",
      "|       0|     1|  male|54.0|    0|    0|51.8625|       S|             54.0|\n",
      "|       0|     3|  male| 2.0|    3|    1| 21.075|       S|              2.0|\n",
      "|       1|     3|female|27.0|    0|    2|11.1333|       S|             27.0|\n",
      "|       1|     2|female|14.0|    1|    0|30.0708|       C|             14.0|\n",
      "|       1|     3|female| 4.0|    1|    1|   16.7|       S|              4.0|\n",
      "|       1|     1|female|58.0|    0|    0|  26.55|       S|             58.0|\n",
      "|       0|     3|  male|20.0|    0|    0|   8.05|       S|             20.0|\n",
      "|       0|     3|  male|39.0|    1|    5| 31.275|       S|             39.0|\n",
      "|       0|     3|female|14.0|    0|    0| 7.8542|       S|             14.0|\n",
      "|       1|     2|female|55.0|    0|    0|   16.0|       S|             55.0|\n",
      "|       0|     3|  male| 2.0|    4|    1| 29.125|       Q|              2.0|\n",
      "|       1|     2|  male|null|    0|    0|   13.0|       S|29.69911764705882|\n",
      "|       0|     3|female|31.0|    1|    0|   18.0|       S|             31.0|\n",
      "|       1|     3|female|null|    0|    0|  7.225|       C|29.69911764705882|\n",
      "+--------+------+------+----+-----+-----+-------+--------+-----------------+\n",
      "only showing top 20 rows\n",
      "\n"
     ]
    }
   ],
   "source": [
    "dfupdated.show()"
   ]
  },
  {
   "cell_type": "code",
   "execution_count": 21,
   "metadata": {},
   "outputs": [],
   "source": [
    "df3 = dfupdated.drop('Embarked')"
   ]
  },
  {
   "cell_type": "code",
   "execution_count": 22,
   "metadata": {},
   "outputs": [
    {
     "data": {
      "text/plain": [
       "['Survived', 'Pclass', 'Sex', 'Age', 'SibSp', 'Parch', 'Fare', 'Age_updated']"
      ]
     },
     "execution_count": 22,
     "metadata": {},
     "output_type": "execute_result"
    }
   ],
   "source": [
    "df3.columns"
   ]
  },
  {
   "cell_type": "code",
   "execution_count": 23,
   "metadata": {},
   "outputs": [],
   "source": [
    "df4 = df3.select(df3.columns[:3] + df3.columns[4:])"
   ]
  },
  {
   "cell_type": "code",
   "execution_count": 24,
   "metadata": {},
   "outputs": [
    {
     "name": "stdout",
     "output_type": "stream",
     "text": [
      "+--------+------+------+-----+-----+-------+-----------------+\n",
      "|Survived|Pclass|   Sex|SibSp|Parch|   Fare|      Age_updated|\n",
      "+--------+------+------+-----+-----+-------+-----------------+\n",
      "|       0|     3|  male|    1|    0|   7.25|             22.0|\n",
      "|       1|     1|female|    1|    0|71.2833|             38.0|\n",
      "|       1|     3|female|    0|    0|  7.925|             26.0|\n",
      "|       1|     1|female|    1|    0|   53.1|             35.0|\n",
      "|       0|     3|  male|    0|    0|   8.05|             35.0|\n",
      "|       0|     3|  male|    0|    0| 8.4583|29.69911764705882|\n",
      "|       0|     1|  male|    0|    0|51.8625|             54.0|\n",
      "|       0|     3|  male|    3|    1| 21.075|              2.0|\n",
      "|       1|     3|female|    0|    2|11.1333|             27.0|\n",
      "|       1|     2|female|    1|    0|30.0708|             14.0|\n",
      "|       1|     3|female|    1|    1|   16.7|              4.0|\n",
      "|       1|     1|female|    0|    0|  26.55|             58.0|\n",
      "|       0|     3|  male|    0|    0|   8.05|             20.0|\n",
      "|       0|     3|  male|    1|    5| 31.275|             39.0|\n",
      "|       0|     3|female|    0|    0| 7.8542|             14.0|\n",
      "|       1|     2|female|    0|    0|   16.0|             55.0|\n",
      "|       0|     3|  male|    4|    1| 29.125|              2.0|\n",
      "|       1|     2|  male|    0|    0|   13.0|29.69911764705882|\n",
      "|       0|     3|female|    1|    0|   18.0|             31.0|\n",
      "|       1|     3|female|    0|    0|  7.225|29.69911764705882|\n",
      "+--------+------+------+-----+-----+-------+-----------------+\n",
      "only showing top 20 rows\n",
      "\n"
     ]
    }
   ],
   "source": [
    "df4.show()"
   ]
  },
  {
   "cell_type": "code",
   "execution_count": 25,
   "metadata": {},
   "outputs": [],
   "source": [
    "df4 = df4.withColumnRenamed('Age_updated','Age')"
   ]
  },
  {
   "cell_type": "code",
   "execution_count": 26,
   "metadata": {},
   "outputs": [
    {
     "name": "stdout",
     "output_type": "stream",
     "text": [
      "+--------+------+------+-----+-----+-------+-----------------+\n",
      "|Survived|Pclass|   Sex|SibSp|Parch|   Fare|              Age|\n",
      "+--------+------+------+-----+-----+-------+-----------------+\n",
      "|       0|     3|  male|    1|    0|   7.25|             22.0|\n",
      "|       1|     1|female|    1|    0|71.2833|             38.0|\n",
      "|       1|     3|female|    0|    0|  7.925|             26.0|\n",
      "|       1|     1|female|    1|    0|   53.1|             35.0|\n",
      "|       0|     3|  male|    0|    0|   8.05|             35.0|\n",
      "|       0|     3|  male|    0|    0| 8.4583|29.69911764705882|\n",
      "|       0|     1|  male|    0|    0|51.8625|             54.0|\n",
      "|       0|     3|  male|    3|    1| 21.075|              2.0|\n",
      "|       1|     3|female|    0|    2|11.1333|             27.0|\n",
      "|       1|     2|female|    1|    0|30.0708|             14.0|\n",
      "|       1|     3|female|    1|    1|   16.7|              4.0|\n",
      "|       1|     1|female|    0|    0|  26.55|             58.0|\n",
      "|       0|     3|  male|    0|    0|   8.05|             20.0|\n",
      "|       0|     3|  male|    1|    5| 31.275|             39.0|\n",
      "|       0|     3|female|    0|    0| 7.8542|             14.0|\n",
      "|       1|     2|female|    0|    0|   16.0|             55.0|\n",
      "|       0|     3|  male|    4|    1| 29.125|              2.0|\n",
      "|       1|     2|  male|    0|    0|   13.0|29.69911764705882|\n",
      "|       0|     3|female|    1|    0|   18.0|             31.0|\n",
      "|       1|     3|female|    0|    0|  7.225|29.69911764705882|\n",
      "+--------+------+------+-----+-----+-------+-----------------+\n",
      "only showing top 20 rows\n",
      "\n"
     ]
    }
   ],
   "source": [
    "df4.show()"
   ]
  },
  {
   "cell_type": "code",
   "execution_count": 27,
   "metadata": {},
   "outputs": [
    {
     "data": {
      "text/plain": [
       "[Row(Survived=0, Pclass=0, Sex=0, SibSp=0, Parch=0, Fare=0, Age=0)]"
      ]
     },
     "execution_count": 27,
     "metadata": {},
     "output_type": "execute_result"
    }
   ],
   "source": [
    "findSparkDfMissingVals(df4)"
   ]
  },
  {
   "cell_type": "code",
   "execution_count": 28,
   "metadata": {},
   "outputs": [
    {
     "data": {
      "image/png": "[encoded data removed]",
      "text/plain": [
       "<Figure size 504x504 with 1 Axes>"
      ]
     },
     "metadata": {},
     "output_type": "display_data"
    },
    {
     "name": "stdout",
     "output_type": "stream",
     "text": [
      "\n",
      "Question-4 -> Plot pie chart which shows the percentage of passengers are survived or not.\n",
      "Plot saved your local disk as  pie_titanic_survival_percentage.png\n",
      "\n",
      "Solution as numeric\n",
      "0 : Not Survived\n",
      "1 : Survived\n",
      "\t Counts of Survivals\n",
      "Not Survived  :  342\n",
      "Survived  :  549\n"
     ]
    }
   ],
   "source": [
    "#Q4 - Plot pie chart which shows the percentage of passengers survived / not.\n",
    "#Q4 - Plot pie chart which shows the percentage of passengers survived / not.\n",
    "surviving_values = df4.select('Survived').groupBy('Survived').count()\n",
    "surviving_values.collect()[0].asDict()\n",
    "\n",
    "\n",
    "surviving_cases = df4.select('Survived').groupBy('Survived').count().collect()\n",
    "surviving_values = [surviving_cases[0]['count'],surviving_cases[1]['count']] \n",
    "surviving_values_dict = {'Not Survived':surviving_values[0],'Survived':surviving_values[1]}\n",
    "surviving_values_dict\n",
    "\n",
    "\n",
    "plt.figure(figsize=(7,7))\n",
    "plt.pie(surviving_values,labels=surviving_values_dict,autopct='%.2f',shadow=True)\n",
    "plt.legend(surviving_values_dict,loc='best')\n",
    "plt.title('Titanic Survival Percentage ')\n",
    "plt_name = 'pie_titanic_survival_percentage.png'\n",
    "plt.savefig(plt_name)\n",
    "plt.show()\n",
    "print(\"\\nQuestion-4 -> Plot pie chart which shows the percentage of passengers are survived or not.\")\n",
    "print(\"Plot saved your local disk as \", plt_name)\n",
    "print(\"\\nSolution as numeric\")\n",
    "print(\"0 : Not Survived\\n1 : Survived\\n\\t Counts of Survivals\")\n",
    "for k,v in surviving_values_dict.items():\n",
    "  print(k,\" : \",v)"
   ]
  },
  {
   "cell_type": "code",
   "execution_count": 29,
   "metadata": {},
   "outputs": [
    {
     "name": "stdout",
     "output_type": "stream",
     "text": [
      "DCT: [Row(Sex='female', count=314), Row(Sex='male', count=577)]\n"
     ]
    }
   ],
   "source": [
    "data = df4.select('Sex').groupBy('Sex').count().collect()\n",
    "print(\"DCT:\",data)\n"
   ]
  },
  {
   "cell_type": "code",
   "execution_count": 30,
   "metadata": {},
   "outputs": [],
   "source": [
    "labels = [row['Sex'] for row in data]\n",
    "label_counts = [row['count'] for row in data]"
   ]
  },
  {
   "cell_type": "code",
   "execution_count": 33,
   "metadata": {},
   "outputs": [
    {
     "data": {
      "image/png": "[encoded data removed]",
      "text/plain": [
       "<Figure size 432x288 with 1 Axes>"
      ]
     },
     "metadata": {
      "needs_background": "light"
     },
     "output_type": "display_data"
    },
    {
     "name": "stdout",
     "output_type": "stream",
     "text": [
      "\n",
      "Question-5 -> Plot bar chart which shows number of female passengers and total male passengers.\n",
      "Plot saved your local disk as  bar_Number_of_passengers_by_gender.png\n",
      "\n",
      "Solution as numeric\n",
      " [Row(Sex='female', count=314), Row(Sex='male', count=577)]\n"
     ]
    }
   ],
   "source": [
    "plt.bar(labels[0],height=label_counts[0],width=0.5,color='aquamarine')\n",
    "plt.bar(labels[1],height=label_counts[1],width=0.5,color='pink')\n",
    "plt.xticks(fontsize='large')\n",
    "plt.yticks(fontsize='large')\n",
    "plt.xlabel(\"Gender\",fontsize='x-large')\n",
    "plt.ylabel(\"Number\",fontsize='large')\n",
    "plt.title(\"Number by Gender\",fontsize='x-large')\n",
    "plt.legend(labels,loc='best',labelspacing=0.5)\n",
    "plt_name ='bar_Number_of_passengers_by_gender.png'\n",
    "plt.savefig(plt_name)\n",
    "plt.show()\n",
    "print(\"\\nQuestion-5 -> Plot bar chart which shows number of female passengers and total male passengers.\")\n",
    "print(\"Plot saved your local disk as \", plt_name)\n",
    "print(\"\\nSolution as numeric\\n\",data)"
   ]
  },
  {
   "cell_type": "code",
   "execution_count": 35,
   "metadata": {},
   "outputs": [],
   "source": [
    "from pyspark.ml.feature import VectorAssembler,StringIndexer"
   ]
  },
  {
   "cell_type": "code",
   "execution_count": 36,
   "metadata": {},
   "outputs": [
    {
     "data": {
      "text/plain": [
       "Row(Survived=0, Pclass=3, Sex='male', SibSp=1, Parch=0, Fare=7.25, Age=22.0)"
      ]
     },
     "execution_count": 36,
     "metadata": {},
     "output_type": "execute_result"
    }
   ],
   "source": [
    "df4.first()"
   ]
  },
  {
   "cell_type": "code",
   "execution_count": 37,
   "metadata": {},
   "outputs": [
    {
     "data": {
      "text/plain": [
       "Row(Survived=0, Pclass=3, SibSp=1, Parch=0, Fare=7.25, Age=22.0, Sex=0.0)"
      ]
     },
     "execution_count": 37,
     "metadata": {},
     "output_type": "execute_result"
    }
   ],
   "source": [
    "si_model = StringIndexer(inputCol='Sex',outputCol='Sex_indexed').fit(df4)\n",
    "df5 = si_model.transform(df4).drop('Sex').withColumnRenamed('Sex_indexed','Sex')\n",
    "df5.first()"
   ]
  },
  {
   "cell_type": "code",
   "execution_count": 38,
   "metadata": {},
   "outputs": [],
   "source": [
    "va = VectorAssembler(inputCols=['Pclass','Sex','SibSp','Parch','Fare','Age'],outputCol='features')\n",
    "df6 = va.transform(df5)"
   ]
  },
  {
   "cell_type": "code",
   "execution_count": 39,
   "metadata": {},
   "outputs": [
    {
     "name": "stdout",
     "output_type": "stream",
     "text": [
      "+--------+------+-----+-----+-------+-----------------+---+--------------------+\n",
      "|Survived|Pclass|SibSp|Parch|   Fare|              Age|Sex|            features|\n",
      "+--------+------+-----+-----+-------+-----------------+---+--------------------+\n",
      "|       0|     3|    1|    0|   7.25|             22.0|0.0|[3.0,0.0,1.0,0.0,...|\n",
      "|       1|     1|    1|    0|71.2833|             38.0|1.0|[1.0,1.0,1.0,0.0,...|\n",
      "|       1|     3|    0|    0|  7.925|             26.0|1.0|[3.0,1.0,0.0,0.0,...|\n",
      "|       1|     1|    1|    0|   53.1|             35.0|1.0|[1.0,1.0,1.0,0.0,...|\n",
      "|       0|     3|    0|    0|   8.05|             35.0|0.0|[3.0,0.0,0.0,0.0,...|\n",
      "|       0|     3|    0|    0| 8.4583|29.69911764705882|0.0|[3.0,0.0,0.0,0.0,...|\n",
      "|       0|     1|    0|    0|51.8625|             54.0|0.0|[1.0,0.0,0.0,0.0,...|\n",
      "|       0|     3|    3|    1| 21.075|              2.0|0.0|[3.0,0.0,3.0,1.0,...|\n",
      "|       1|     3|    0|    2|11.1333|             27.0|1.0|[3.0,1.0,0.0,2.0,...|\n",
      "|       1|     2|    1|    0|30.0708|             14.0|1.0|[2.0,1.0,1.0,0.0,...|\n",
      "|       1|     3|    1|    1|   16.7|              4.0|1.0|[3.0,1.0,1.0,1.0,...|\n",
      "|       1|     1|    0|    0|  26.55|             58.0|1.0|[1.0,1.0,0.0,0.0,...|\n",
      "|       0|     3|    0|    0|   8.05|             20.0|0.0|[3.0,0.0,0.0,0.0,...|\n",
      "|       0|     3|    1|    5| 31.275|             39.0|0.0|[3.0,0.0,1.0,5.0,...|\n",
      "|       0|     3|    0|    0| 7.8542|             14.0|1.0|[3.0,1.0,0.0,0.0,...|\n",
      "|       1|     2|    0|    0|   16.0|             55.0|1.0|[2.0,1.0,0.0,0.0,...|\n",
      "|       0|     3|    4|    1| 29.125|              2.0|0.0|[3.0,0.0,4.0,1.0,...|\n",
      "|       1|     2|    0|    0|   13.0|29.69911764705882|0.0|[2.0,0.0,0.0,0.0,...|\n",
      "|       0|     3|    1|    0|   18.0|             31.0|1.0|[3.0,1.0,1.0,0.0,...|\n",
      "|       1|     3|    0|    0|  7.225|29.69911764705882|1.0|[3.0,1.0,0.0,0.0,...|\n",
      "+--------+------+-----+-----+-------+-----------------+---+--------------------+\n",
      "only showing top 20 rows\n",
      "\n"
     ]
    }
   ],
   "source": [
    "df6.show()"
   ]
  },
  {
   "cell_type": "code",
   "execution_count": 40,
   "metadata": {},
   "outputs": [
    {
     "name": "stdout",
     "output_type": "stream",
     "text": [
      "+--------------------+--------+\n",
      "|            features|Survived|\n",
      "+--------------------+--------+\n",
      "|[3.0,0.0,1.0,0.0,...|       0|\n",
      "|[1.0,1.0,1.0,0.0,...|       1|\n",
      "|[3.0,1.0,0.0,0.0,...|       1|\n",
      "|[1.0,1.0,1.0,0.0,...|       1|\n",
      "|[3.0,0.0,0.0,0.0,...|       0|\n",
      "|[3.0,0.0,0.0,0.0,...|       0|\n",
      "|[1.0,0.0,0.0,0.0,...|       0|\n",
      "|[3.0,0.0,3.0,1.0,...|       0|\n",
      "|[3.0,1.0,0.0,2.0,...|       1|\n",
      "|[2.0,1.0,1.0,0.0,...|       1|\n",
      "|[3.0,1.0,1.0,1.0,...|       1|\n",
      "|[1.0,1.0,0.0,0.0,...|       1|\n",
      "|[3.0,0.0,0.0,0.0,...|       0|\n",
      "|[3.0,0.0,1.0,5.0,...|       0|\n",
      "|[3.0,1.0,0.0,0.0,...|       0|\n",
      "|[2.0,1.0,0.0,0.0,...|       1|\n",
      "|[3.0,0.0,4.0,1.0,...|       0|\n",
      "|[2.0,0.0,0.0,0.0,...|       1|\n",
      "|[3.0,1.0,1.0,0.0,...|       0|\n",
      "|[3.0,1.0,0.0,0.0,...|       1|\n",
      "+--------------------+--------+\n",
      "only showing top 20 rows\n",
      "\n"
     ]
    }
   ],
   "source": [
    "df7 = df6.select('features','Survived')\n",
    "df7.show()"
   ]
  },
  {
   "cell_type": "code",
   "execution_count": 41,
   "metadata": {},
   "outputs": [
    {
     "data": {
      "text/plain": [
       "Row(features=DenseVector([3.0, 0.0, 1.0, 0.0, 7.25, 22.0]), Survived=0)"
      ]
     },
     "execution_count": 41,
     "metadata": {},
     "output_type": "execute_result"
    }
   ],
   "source": [
    "df7.first()"
   ]
  },
  {
   "cell_type": "code",
   "execution_count": 42,
   "metadata": {},
   "outputs": [],
   "source": [
    "train_data,test_data = df7.randomSplit([0.8,0.2])"
   ]
  },
  {
   "cell_type": "code",
   "execution_count": 43,
   "metadata": {},
   "outputs": [
    {
     "data": {
      "text/plain": [
       "Row(features=SparseVector(6, {0: 1.0, 5: 29.6991}), Survived=0)"
      ]
     },
     "execution_count": 43,
     "metadata": {},
     "output_type": "execute_result"
    }
   ],
   "source": [
    "train_data.first()"
   ]
  },
  {
   "cell_type": "code",
   "execution_count": 44,
   "metadata": {},
   "outputs": [
    {
     "name": "stderr",
     "output_type": "stream",
     "text": [
      "22/04/16 21:53:39 WARN BLAS: Failed to load implementation from: com.github.fommil.netlib.NativeSystemBLAS\n",
      "22/04/16 21:53:39 WARN BLAS: Failed to load implementation from: com.github.fommil.netlib.NativeRefBLAS\n"
     ]
    }
   ],
   "source": [
    "from pyspark.ml.classification import LogisticRegression\n",
    "\n",
    "logreg = LogisticRegression(featuresCol='features',labelCol='Survived')\n",
    "model = logreg.fit(train_data)"
   ]
  },
  {
   "cell_type": "code",
   "execution_count": 45,
   "metadata": {},
   "outputs": [
    {
     "data": {
      "text/plain": [
       "(DenseVector([-1.022, 2.7667, -0.4191, -0.1614, 0.0045, -0.0416]),\n",
       " 2.1082464796581375)"
      ]
     },
     "execution_count": 45,
     "metadata": {},
     "output_type": "execute_result"
    }
   ],
   "source": [
    "model.coefficients,model.intercept"
   ]
  },
  {
   "cell_type": "code",
   "execution_count": 46,
   "metadata": {},
   "outputs": [],
   "source": [
    "evaluation = model.evaluate(test_data)"
   ]
  },
  {
   "cell_type": "code",
   "execution_count": 47,
   "metadata": {},
   "outputs": [
    {
     "data": {
      "text/plain": [
       "(0.8023255813953488, 0.862389193752638)"
      ]
     },
     "execution_count": 47,
     "metadata": {},
     "output_type": "execute_result"
    }
   ],
   "source": [
    "evaluation.accuracy,evaluation.areaUnderROC"
   ]
  },
  {
   "cell_type": "code",
   "execution_count": 48,
   "metadata": {},
   "outputs": [],
   "source": [
    "preds = model.transform(test_data)"
   ]
  },
  {
   "cell_type": "code",
   "execution_count": 49,
   "metadata": {},
   "outputs": [
    {
     "name": "stdout",
     "output_type": "stream",
     "text": [
      "+--------------------+--------+--------------------+--------------------+----------+\n",
      "|            features|Survived|       rawPrediction|         probability|prediction|\n",
      "+--------------------+--------+--------------------+--------------------+----------+\n",
      "|(6,[0,5],[1.0,29....|       0|[0.15025684283989...|[0.53749369560443...|       0.0|\n",
      "|(6,[0,5],[3.0,36.0])|       0|[2.45667500145732...|[0.92104821249550...|       0.0|\n",
      "|(6,[0,5],[3.0,49.0])|       0|[2.99790066961368...|[0.95247919592868...|       0.0|\n",
      "|[1.0,0.0,0.0,0.0,...|       0|[0.03452714298893...|[0.50863092833648...|       0.0|\n",
      "|[1.0,0.0,0.0,0.0,...|       1|[0.29557045968828...|[0.57335932345777...|       0.0|\n",
      "|[1.0,0.0,0.0,0.0,...|       0|[1.37685337114673...|[0.79848516238600...|       0.0|\n",
      "|[1.0,0.0,0.0,0.0,...|       1|[-0.0978746705977...|[0.47555084669097...|       1.0|\n",
      "|[1.0,0.0,0.0,0.0,...|       1|[0.01449700263011...|[0.50362418718522...|       0.0|\n",
      "|[1.0,0.0,0.0,0.0,...|       0|[1.30953397544625...|[0.78743516265766...|       0.0|\n",
      "|[1.0,0.0,0.0,0.0,...|       0|[1.71547511704220...|[0.84754508429653...|       0.0|\n",
      "|[1.0,0.0,0.0,0.0,...|       0|[-0.1301308891059...|[0.46751310933779...|       1.0|\n",
      "|[1.0,0.0,0.0,0.0,...|       0|[1.64937565385810...|[0.83880665040417...|       0.0|\n",
      "|[1.0,0.0,0.0,0.0,...|       0|[-0.7740016680940...|[0.31561410150008...|       1.0|\n",
      "|[1.0,0.0,0.0,0.0,...|       0|[-0.8624893094135...|[0.29681952008988...|       1.0|\n",
      "|[1.0,0.0,0.0,1.0,...|       0|[1.50548435332068...|[0.81839102381329...|       0.0|\n",
      "|[1.0,0.0,0.0,1.0,...|       1|[-0.2492294526100...|[0.43801316616679...|       1.0|\n",
      "|[1.0,0.0,0.0,1.0,...|       0|[-0.3944957913711...|[0.40263550055438...|       1.0|\n",
      "|[1.0,0.0,0.0,2.0,...|       0|[-0.5806651034413...|[0.35877956773526...|       1.0|\n",
      "|[1.0,0.0,1.0,0.0,...|       0|[0.24375993908329...|[0.56064001806899...|       0.0|\n",
      "|[1.0,0.0,1.0,0.0,...|       0|[0.13281934882360...|[0.53315610934399...|       0.0|\n",
      "+--------------------+--------+--------------------+--------------------+----------+\n",
      "only showing top 20 rows\n",
      "\n"
     ]
    }
   ],
   "source": [
    "preds.show()"
   ]
  },
  {
   "cell_type": "code",
   "execution_count": 50,
   "metadata": {},
   "outputs": [
    {
     "name": "stdout",
     "output_type": "stream",
     "text": [
      "+--------+--------------------+----------+--------------------+--------------------+\n",
      "|Survived|            features|prediction|         probability|       rawPrediction|\n",
      "+--------+--------------------+----------+--------------------+--------------------+\n",
      "|       1|[1.0,0.0,1.0,0.0,...|       0.0|[0.72636259000507...|[0.97624541657823...|\n",
      "+--------+--------------------+----------+--------------------+--------------------+\n",
      "\n"
     ]
    }
   ],
   "source": [
    "# Sample Alma\n",
    "sample = preds.collect()[20]\n",
    "sdct = sample.asDict()\n",
    "df10 = spark.createDataFrame([sdct])\n",
    "df10.show()"
   ]
  }
 ],
 "metadata": {
  "kernelspec": {
   "display_name": "Python 3 (ipykernel)",
   "language": "python",
   "name": "python3"
  },
  "language_info": {
   "codemirror_mode": {
    "name": "ipython",
    "version": 3
   },
   "file_extension": ".py",
   "mimetype": "text/x-python",
   "name": "python",
   "nbconvert_exporter": "python",
   "pygments_lexer": "ipython3",
   "version": "3.9.12"
  }
 },
 "nbformat": 4,
 "nbformat_minor": 4
}
